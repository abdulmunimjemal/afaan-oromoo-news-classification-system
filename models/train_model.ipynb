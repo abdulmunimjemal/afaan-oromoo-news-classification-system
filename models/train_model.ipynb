{
 "cells": [
  {
   "cell_type": "code",
   "execution_count": 1,
   "metadata": {},
   "outputs": [
    {
     "name": "stdout",
     "output_type": "stream",
     "text": [
      "WARNING:tensorflow:From c:\\Users\\Abdulmunim\\Desktop\\Dallol-i Projects\\my_project\\venv\\Lib\\site-packages\\keras\\src\\losses.py:2976: The name tf.losses.sparse_softmax_cross_entropy is deprecated. Please use tf.compat.v1.losses.sparse_softmax_cross_entropy instead.\n",
      "\n"
     ]
    }
   ],
   "source": [
    "import os\n",
    "import pandas as pd \n",
    "import numpy as np \n",
    "\n",
    "# Data preprocessors\n",
    "from sklearn.utils import shuffle \n",
    "from sklearn.model_selection import train_test_split\n",
    "from sklearn.feature_extraction.text import TfidfVectorizer\n",
    "from sklearn.preprocessing import LabelEncoder\n",
    "\n",
    "# ML Models (will evaluate each and choose)\n",
    "from sklearn.svm import SVC # Support Vector Machine Classifier\n",
    "from sklearn.naive_bayes import GaussianNB # Niave Bayes classifier\n",
    "from sklearn.ensemble import RandomForestClassifier # Random Forest classifier\n",
    "from sklearn.linear_model import LogisticRegression # Logistic Regression Classifier\n",
    "\n",
    "# Deep Learning Model\n",
    "from tensorflow.keras.models import Sequential\n",
    "from tensorflow.keras.layers import Embedding, GlobalAvgPool1D, Dense \n",
    "from tensorflow.keras.preprocessing.text import Tokenizer\n",
    "from tensorflow.keras.preprocessing.sequence import pad_sequences\n",
    "\n",
    "# Visualization\n",
    "import matplotlib.pyplot as plt\n",
    "\n",
    "# Dumping\n",
    "import joblib "
   ]
  },
  {
   "cell_type": "code",
   "execution_count": 2,
   "metadata": {},
   "outputs": [],
   "source": [
    "# import local module found in another folder\n",
    "import sys\n",
    "sys.path.append('../')\n",
    "from preprocessing import preprocessing_pipeline"
   ]
  },
  {
   "cell_type": "code",
   "execution_count": 3,
   "metadata": {},
   "outputs": [],
   "source": [
    "# Visualization function\n",
    "\n",
    "def plot_loss(history):\n",
    "    plt.plot(history.history['loss'], label='Training Loss')\n",
    "    plt.plot(history.history['val_loss'], label='Validation Loss')\n",
    "    plt.title(\"Training and Validation Loss\")\n",
    "    plt.xlabel(\"Epoch\")\n",
    "    plt.ylabel(\"Loss\")\n",
    "    plt.legend()\n",
    "    plt.tight_layout()\n",
    "    plt.show()\n",
    "\n",
    "def plot_accuracy(history):\n",
    "    plt.plot(history.history['accuracy'], label='Training Accuracy')\n",
    "    plt.plot(history.history['val_accuracy'], label='Validation Accuracy')\n",
    "    plt.title(\"Training and Validation Accuracy\")\n",
    "    plt.xlabel(\"Epoch\")\n",
    "    plt.ylabel(\"Loss\")\n",
    "    plt.legend()\n",
    "    plt.tight_layout()\n",
    "    plt.show()"
   ]
  },
  {
   "cell_type": "code",
   "execution_count": 4,
   "metadata": {},
   "outputs": [],
   "source": [
    "# Data extraction function\n",
    "def extract_data(DATA_PATH):\n",
    "    files = [file for file in os.listdir(DATA_PATH) if os.path.isfile(os.path.join(DATA_PATH, file))]\n",
    "    combined_data = pd.DataFrame()\n",
    "    for file in files:\n",
    "        file_path = os.path.join(DATA_PATH, file)\n",
    "        df = pd.read_csv(file_path, delimiter='\\t')\n",
    "        combined_data = pd.concat([combined_data, df], ignore_index=True)\n",
    "    return combined_data"
   ]
  },
  {
   "cell_type": "code",
   "execution_count": 5,
   "metadata": {},
   "outputs": [],
   "source": [
    "# Modify the path and extract the data\n",
    "data_path = '../data/'\n",
    "data = extract_data(DATA_PATH=data_path)"
   ]
  },
  {
   "cell_type": "code",
   "execution_count": 6,
   "metadata": {},
   "outputs": [
    {
     "data": {
      "text/html": [
       "<div>\n",
       "<style scoped>\n",
       "    .dataframe tbody tr th:only-of-type {\n",
       "        vertical-align: middle;\n",
       "    }\n",
       "\n",
       "    .dataframe tbody tr th {\n",
       "        vertical-align: top;\n",
       "    }\n",
       "\n",
       "    .dataframe thead th {\n",
       "        text-align: right;\n",
       "    }\n",
       "</style>\n",
       "<table border=\"1\" class=\"dataframe\">\n",
       "  <thead>\n",
       "    <tr style=\"text-align: right;\">\n",
       "      <th></th>\n",
       "      <th>headline</th>\n",
       "      <th>content</th>\n",
       "      <th>category</th>\n",
       "      <th>date</th>\n",
       "      <th>link</th>\n",
       "    </tr>\n",
       "  </thead>\n",
       "  <tbody>\n",
       "    <tr>\n",
       "      <th>4481</th>\n",
       "      <td>Piriimayeer liigii Ityoophiyaan Adaamaan Macha...</td>\n",
       "      <td>Taphoota Beetkiingii Piriimayeer liigii Ityo...</td>\n",
       "      <td>ispoortii</td>\n",
       "      <td>2023-04-01</td>\n",
       "      <td>https://www.fanabc.com/afaanoromoo/piriimayeer...</td>\n",
       "    </tr>\n",
       "    <tr>\n",
       "      <th>2772</th>\n",
       "      <td>Addunyaarratti lakkoofsi namoota vaayrasii kor...</td>\n",
       "      <td>Addunyaarratti lakkoofsi namoota vaayrasii k...</td>\n",
       "      <td>idil_addunyaa</td>\n",
       "      <td>2020-08-14</td>\n",
       "      <td>https://www.fanabc.com/afaanoromoo/addunyaarra...</td>\n",
       "    </tr>\n",
       "    <tr>\n",
       "      <th>3811</th>\n",
       "      <td>Taphoota Beetkiing Priimeyar Liigii Ityoophiya...</td>\n",
       "      <td>Taphoota Beetkiing Priimeyar Liigii Ityoophi...</td>\n",
       "      <td>ispoortii</td>\n",
       "      <td>2020-12-29</td>\n",
       "      <td>https://www.fanabc.com/afaanoromoo/taphoota-be...</td>\n",
       "    </tr>\n",
       "    <tr>\n",
       "      <th>3935</th>\n",
       "      <td>Atleet Yalemzarf fiigicha fageenya meetira kum...</td>\n",
       "      <td>Dorgommii fiigicha daandirraa fageenya meeti...</td>\n",
       "      <td>ispoortii</td>\n",
       "      <td>2022-02-27</td>\n",
       "      <td>https://www.fanabc.com/afaanoromoo/atleet-yale...</td>\n",
       "    </tr>\n",
       "    <tr>\n",
       "      <th>1411</th>\n",
       "      <td>Qorichoonni tajaajila yaala dhibee Sukkaaraaf ...</td>\n",
       "      <td>Qorichoonni tajaajila yaala dhibee Sukkaaraa...</td>\n",
       "      <td>fayyaa</td>\n",
       "      <td>2021-02-23</td>\n",
       "      <td>https://www.fanabc.com/afaanoromoo/qorichoonni...</td>\n",
       "    </tr>\n",
       "  </tbody>\n",
       "</table>\n",
       "</div>"
      ],
      "text/plain": [
       "                                               headline  \\\n",
       "4481  Piriimayeer liigii Ityoophiyaan Adaamaan Macha...   \n",
       "2772  Addunyaarratti lakkoofsi namoota vaayrasii kor...   \n",
       "3811  Taphoota Beetkiing Priimeyar Liigii Ityoophiya...   \n",
       "3935  Atleet Yalemzarf fiigicha fageenya meetira kum...   \n",
       "1411  Qorichoonni tajaajila yaala dhibee Sukkaaraaf ...   \n",
       "\n",
       "                                                content       category  \\\n",
       "4481    Taphoota Beetkiingii Piriimayeer liigii Ityo...      ispoortii   \n",
       "2772    Addunyaarratti lakkoofsi namoota vaayrasii k...  idil_addunyaa   \n",
       "3811    Taphoota Beetkiing Priimeyar Liigii Ityoophi...      ispoortii   \n",
       "3935    Dorgommii fiigicha daandirraa fageenya meeti...      ispoortii   \n",
       "1411    Qorichoonni tajaajila yaala dhibee Sukkaaraa...         fayyaa   \n",
       "\n",
       "            date                                               link  \n",
       "4481  2023-04-01  https://www.fanabc.com/afaanoromoo/piriimayeer...  \n",
       "2772  2020-08-14  https://www.fanabc.com/afaanoromoo/addunyaarra...  \n",
       "3811  2020-12-29  https://www.fanabc.com/afaanoromoo/taphoota-be...  \n",
       "3935  2022-02-27  https://www.fanabc.com/afaanoromoo/atleet-yale...  \n",
       "1411  2021-02-23  https://www.fanabc.com/afaanoromoo/qorichoonni...  "
      ]
     },
     "execution_count": 6,
     "metadata": {},
     "output_type": "execute_result"
    }
   ],
   "source": [
    "data = shuffle(data)\n",
    "data = data.dropna()\n",
    "data.head()"
   ]
  },
  {
   "cell_type": "code",
   "execution_count": 7,
   "metadata": {},
   "outputs": [],
   "source": [
    "preprocessor = preprocessing_pipeline.PreprocessingPipeline()"
   ]
  },
  {
   "cell_type": "code",
   "execution_count": 8,
   "metadata": {},
   "outputs": [],
   "source": [
    "data['preprocessed_content'] = data['content'].apply(preprocessor.preprocess)"
   ]
  },
  {
   "cell_type": "code",
   "execution_count": 9,
   "metadata": {},
   "outputs": [
    {
     "data": {
      "text/html": [
       "<div>\n",
       "<style scoped>\n",
       "    .dataframe tbody tr th:only-of-type {\n",
       "        vertical-align: middle;\n",
       "    }\n",
       "\n",
       "    .dataframe tbody tr th {\n",
       "        vertical-align: top;\n",
       "    }\n",
       "\n",
       "    .dataframe thead th {\n",
       "        text-align: right;\n",
       "    }\n",
       "</style>\n",
       "<table border=\"1\" class=\"dataframe\">\n",
       "  <thead>\n",
       "    <tr style=\"text-align: right;\">\n",
       "      <th></th>\n",
       "      <th>headline</th>\n",
       "      <th>content</th>\n",
       "      <th>category</th>\n",
       "      <th>date</th>\n",
       "      <th>link</th>\n",
       "      <th>preprocessed_content</th>\n",
       "    </tr>\n",
       "  </thead>\n",
       "  <tbody>\n",
       "    <tr>\n",
       "      <th>4481</th>\n",
       "      <td>Piriimayeer liigii Ityoophiyaan Adaamaan Macha...</td>\n",
       "      <td>Taphoota Beetkiingii Piriimayeer liigii Ityo...</td>\n",
       "      <td>ispoortii</td>\n",
       "      <td>2023-04-01</td>\n",
       "      <td>https://www.fanabc.com/afaanoromoo/piriimayeer...</td>\n",
       "      <td>tapho beetkiingii piriimayeer liigii ityoophiy...</td>\n",
       "    </tr>\n",
       "    <tr>\n",
       "      <th>2772</th>\n",
       "      <td>Addunyaarratti lakkoofsi namoota vaayrasii kor...</td>\n",
       "      <td>Addunyaarratti lakkoofsi namoota vaayrasii k...</td>\n",
       "      <td>idil_addunyaa</td>\n",
       "      <td>2020-08-14</td>\n",
       "      <td>https://www.fanabc.com/afaanoromoo/addunyaarra...</td>\n",
       "      <td>addunyaarrat lakkoof namo vaayrasii koroona qa...</td>\n",
       "    </tr>\n",
       "    <tr>\n",
       "      <th>3811</th>\n",
       "      <td>Taphoota Beetkiing Priimeyar Liigii Ityoophiya...</td>\n",
       "      <td>Taphoota Beetkiing Priimeyar Liigii Ityoophi...</td>\n",
       "      <td>ispoortii</td>\n",
       "      <td>2020-12-29</td>\n",
       "      <td>https://www.fanabc.com/afaanoromoo/taphoota-be...</td>\n",
       "      <td>tapho beetkiing priimeyar liigii ityoophiyaa t...</td>\n",
       "    </tr>\n",
       "    <tr>\n",
       "      <th>3935</th>\n",
       "      <td>Atleet Yalemzarf fiigicha fageenya meetira kum...</td>\n",
       "      <td>Dorgommii fiigicha daandirraa fageenya meeti...</td>\n",
       "      <td>ispoortii</td>\n",
       "      <td>2022-02-27</td>\n",
       "      <td>https://www.fanabc.com/afaanoromoo/atleet-yale...</td>\n",
       "      <td>dorgommii fiigicha daandirraa fagee meetira ku...</td>\n",
       "    </tr>\n",
       "    <tr>\n",
       "      <th>1411</th>\n",
       "      <td>Qorichoonni tajaajila yaala dhibee Sukkaaraaf ...</td>\n",
       "      <td>Qorichoonni tajaajila yaala dhibee Sukkaaraa...</td>\n",
       "      <td>fayyaa</td>\n",
       "      <td>2021-02-23</td>\n",
       "      <td>https://www.fanabc.com/afaanoromoo/qorichoonni...</td>\n",
       "      <td>qorichoonni tajaajila yaala dhibee sukkaaraa o...</td>\n",
       "    </tr>\n",
       "  </tbody>\n",
       "</table>\n",
       "</div>"
      ],
      "text/plain": [
       "                                               headline  \\\n",
       "4481  Piriimayeer liigii Ityoophiyaan Adaamaan Macha...   \n",
       "2772  Addunyaarratti lakkoofsi namoota vaayrasii kor...   \n",
       "3811  Taphoota Beetkiing Priimeyar Liigii Ityoophiya...   \n",
       "3935  Atleet Yalemzarf fiigicha fageenya meetira kum...   \n",
       "1411  Qorichoonni tajaajila yaala dhibee Sukkaaraaf ...   \n",
       "\n",
       "                                                content       category  \\\n",
       "4481    Taphoota Beetkiingii Piriimayeer liigii Ityo...      ispoortii   \n",
       "2772    Addunyaarratti lakkoofsi namoota vaayrasii k...  idil_addunyaa   \n",
       "3811    Taphoota Beetkiing Priimeyar Liigii Ityoophi...      ispoortii   \n",
       "3935    Dorgommii fiigicha daandirraa fageenya meeti...      ispoortii   \n",
       "1411    Qorichoonni tajaajila yaala dhibee Sukkaaraa...         fayyaa   \n",
       "\n",
       "            date                                               link  \\\n",
       "4481  2023-04-01  https://www.fanabc.com/afaanoromoo/piriimayeer...   \n",
       "2772  2020-08-14  https://www.fanabc.com/afaanoromoo/addunyaarra...   \n",
       "3811  2020-12-29  https://www.fanabc.com/afaanoromoo/taphoota-be...   \n",
       "3935  2022-02-27  https://www.fanabc.com/afaanoromoo/atleet-yale...   \n",
       "1411  2021-02-23  https://www.fanabc.com/afaanoromoo/qorichoonni...   \n",
       "\n",
       "                                   preprocessed_content  \n",
       "4481  tapho beetkiingii piriimayeer liigii ityoophiy...  \n",
       "2772  addunyaarrat lakkoof namo vaayrasii koroona qa...  \n",
       "3811  tapho beetkiing priimeyar liigii ityoophiyaa t...  \n",
       "3935  dorgommii fiigicha daandirraa fagee meetira ku...  \n",
       "1411  qorichoonni tajaajila yaala dhibee sukkaaraa o...  "
      ]
     },
     "execution_count": 9,
     "metadata": {},
     "output_type": "execute_result"
    }
   ],
   "source": [
    "data.head()"
   ]
  },
  {
   "cell_type": "code",
   "execution_count": 10,
   "metadata": {},
   "outputs": [],
   "source": [
    "# Convert the labels to numerical values\n",
    "label_encoder = LabelEncoder()\n",
    "encoded_labels = label_encoder.fit_transform(data['category'])"
   ]
  },
  {
   "cell_type": "code",
   "execution_count": 11,
   "metadata": {},
   "outputs": [],
   "source": [
    "# Split the data int to training, validation and testing sets\n",
    "X_train_temp, X_test, y_train_temp, y_test = train_test_split(data['preprocessed_content'], encoded_labels, test_size=0.2, random_state=0)\n",
    "X_train, X_val, y_train, y_val = train_test_split(X_train_temp, y_train_temp, test_size=0.2, random_state=0)"
   ]
  },
  {
   "cell_type": "code",
   "execution_count": 12,
   "metadata": {},
   "outputs": [],
   "source": [
    "# Text vectorization using TF-IDF\n",
    "vectorizor = TfidfVectorizer(max_features=5000)\n",
    "X_train_vectorized = vectorizor.fit_transform(X_train)\n",
    "X_val_vectorized = vectorizor.transform(X_val)\n",
    "X_test_vectorized = vectorizor.transform(X_test)\n"
   ]
  },
  {
   "cell_type": "markdown",
   "metadata": {},
   "source": [
    "## Testing Different Models"
   ]
  },
  {
   "cell_type": "markdown",
   "metadata": {},
   "source": [
    "### Model 1: Support Vector Machine"
   ]
  },
  {
   "cell_type": "code",
   "execution_count": 13,
   "metadata": {},
   "outputs": [
    {
     "data": {
      "text/html": [
       "<style>#sk-container-id-1 {color: black;}#sk-container-id-1 pre{padding: 0;}#sk-container-id-1 div.sk-toggleable {background-color: white;}#sk-container-id-1 label.sk-toggleable__label {cursor: pointer;display: block;width: 100%;margin-bottom: 0;padding: 0.3em;box-sizing: border-box;text-align: center;}#sk-container-id-1 label.sk-toggleable__label-arrow:before {content: \"▸\";float: left;margin-right: 0.25em;color: #696969;}#sk-container-id-1 label.sk-toggleable__label-arrow:hover:before {color: black;}#sk-container-id-1 div.sk-estimator:hover label.sk-toggleable__label-arrow:before {color: black;}#sk-container-id-1 div.sk-toggleable__content {max-height: 0;max-width: 0;overflow: hidden;text-align: left;background-color: #f0f8ff;}#sk-container-id-1 div.sk-toggleable__content pre {margin: 0.2em;color: black;border-radius: 0.25em;background-color: #f0f8ff;}#sk-container-id-1 input.sk-toggleable__control:checked~div.sk-toggleable__content {max-height: 200px;max-width: 100%;overflow: auto;}#sk-container-id-1 input.sk-toggleable__control:checked~label.sk-toggleable__label-arrow:before {content: \"▾\";}#sk-container-id-1 div.sk-estimator input.sk-toggleable__control:checked~label.sk-toggleable__label {background-color: #d4ebff;}#sk-container-id-1 div.sk-label input.sk-toggleable__control:checked~label.sk-toggleable__label {background-color: #d4ebff;}#sk-container-id-1 input.sk-hidden--visually {border: 0;clip: rect(1px 1px 1px 1px);clip: rect(1px, 1px, 1px, 1px);height: 1px;margin: -1px;overflow: hidden;padding: 0;position: absolute;width: 1px;}#sk-container-id-1 div.sk-estimator {font-family: monospace;background-color: #f0f8ff;border: 1px dotted black;border-radius: 0.25em;box-sizing: border-box;margin-bottom: 0.5em;}#sk-container-id-1 div.sk-estimator:hover {background-color: #d4ebff;}#sk-container-id-1 div.sk-parallel-item::after {content: \"\";width: 100%;border-bottom: 1px solid gray;flex-grow: 1;}#sk-container-id-1 div.sk-label:hover label.sk-toggleable__label {background-color: #d4ebff;}#sk-container-id-1 div.sk-serial::before {content: \"\";position: absolute;border-left: 1px solid gray;box-sizing: border-box;top: 0;bottom: 0;left: 50%;z-index: 0;}#sk-container-id-1 div.sk-serial {display: flex;flex-direction: column;align-items: center;background-color: white;padding-right: 0.2em;padding-left: 0.2em;position: relative;}#sk-container-id-1 div.sk-item {position: relative;z-index: 1;}#sk-container-id-1 div.sk-parallel {display: flex;align-items: stretch;justify-content: center;background-color: white;position: relative;}#sk-container-id-1 div.sk-item::before, #sk-container-id-1 div.sk-parallel-item::before {content: \"\";position: absolute;border-left: 1px solid gray;box-sizing: border-box;top: 0;bottom: 0;left: 50%;z-index: -1;}#sk-container-id-1 div.sk-parallel-item {display: flex;flex-direction: column;z-index: 1;position: relative;background-color: white;}#sk-container-id-1 div.sk-parallel-item:first-child::after {align-self: flex-end;width: 50%;}#sk-container-id-1 div.sk-parallel-item:last-child::after {align-self: flex-start;width: 50%;}#sk-container-id-1 div.sk-parallel-item:only-child::after {width: 0;}#sk-container-id-1 div.sk-dashed-wrapped {border: 1px dashed gray;margin: 0 0.4em 0.5em 0.4em;box-sizing: border-box;padding-bottom: 0.4em;background-color: white;}#sk-container-id-1 div.sk-label label {font-family: monospace;font-weight: bold;display: inline-block;line-height: 1.2em;}#sk-container-id-1 div.sk-label-container {text-align: center;}#sk-container-id-1 div.sk-container {/* jupyter's `normalize.less` sets `[hidden] { display: none; }` but bootstrap.min.css set `[hidden] { display: none !important; }` so we also need the `!important` here to be able to override the default hidden behavior on the sphinx rendered scikit-learn.org. See: https://github.com/scikit-learn/scikit-learn/issues/21755 */display: inline-block !important;position: relative;}#sk-container-id-1 div.sk-text-repr-fallback {display: none;}</style><div id=\"sk-container-id-1\" class=\"sk-top-container\"><div class=\"sk-text-repr-fallback\"><pre>SVC()</pre><b>In a Jupyter environment, please rerun this cell to show the HTML representation or trust the notebook. <br />On GitHub, the HTML representation is unable to render, please try loading this page with nbviewer.org.</b></div><div class=\"sk-container\" hidden><div class=\"sk-item\"><div class=\"sk-estimator sk-toggleable\"><input class=\"sk-toggleable__control sk-hidden--visually\" id=\"sk-estimator-id-1\" type=\"checkbox\" checked><label for=\"sk-estimator-id-1\" class=\"sk-toggleable__label sk-toggleable__label-arrow\">SVC</label><div class=\"sk-toggleable__content\"><pre>SVC()</pre></div></div></div></div></div>"
      ],
      "text/plain": [
       "SVC()"
      ]
     },
     "execution_count": 13,
     "metadata": {},
     "output_type": "execute_result"
    }
   ],
   "source": [
    "classifier_svm = SVC()\n",
    "classifier_svm.fit(X_train_vectorized, y_train)"
   ]
  },
  {
   "cell_type": "code",
   "execution_count": 15,
   "metadata": {},
   "outputs": [
    {
     "name": "stdout",
     "output_type": "stream",
     "text": [
      "Support Vector Machine ValidationA Accuracy:  0.9169776119402985\n"
     ]
    }
   ],
   "source": [
    "accuracy_val_svm = classifier_svm.score(X_val_vectorized, y_val)\n",
    "print(\"Support Vector Machine ValidationA Accuracy: \", accuracy_val_svm)"
   ]
  },
  {
   "cell_type": "markdown",
   "metadata": {},
   "source": [
    "### Model 2: Naive Bayes Classifier"
   ]
  },
  {
   "cell_type": "code",
   "execution_count": 16,
   "metadata": {},
   "outputs": [
    {
     "data": {
      "text/html": [
       "<style>#sk-container-id-2 {color: black;}#sk-container-id-2 pre{padding: 0;}#sk-container-id-2 div.sk-toggleable {background-color: white;}#sk-container-id-2 label.sk-toggleable__label {cursor: pointer;display: block;width: 100%;margin-bottom: 0;padding: 0.3em;box-sizing: border-box;text-align: center;}#sk-container-id-2 label.sk-toggleable__label-arrow:before {content: \"▸\";float: left;margin-right: 0.25em;color: #696969;}#sk-container-id-2 label.sk-toggleable__label-arrow:hover:before {color: black;}#sk-container-id-2 div.sk-estimator:hover label.sk-toggleable__label-arrow:before {color: black;}#sk-container-id-2 div.sk-toggleable__content {max-height: 0;max-width: 0;overflow: hidden;text-align: left;background-color: #f0f8ff;}#sk-container-id-2 div.sk-toggleable__content pre {margin: 0.2em;color: black;border-radius: 0.25em;background-color: #f0f8ff;}#sk-container-id-2 input.sk-toggleable__control:checked~div.sk-toggleable__content {max-height: 200px;max-width: 100%;overflow: auto;}#sk-container-id-2 input.sk-toggleable__control:checked~label.sk-toggleable__label-arrow:before {content: \"▾\";}#sk-container-id-2 div.sk-estimator input.sk-toggleable__control:checked~label.sk-toggleable__label {background-color: #d4ebff;}#sk-container-id-2 div.sk-label input.sk-toggleable__control:checked~label.sk-toggleable__label {background-color: #d4ebff;}#sk-container-id-2 input.sk-hidden--visually {border: 0;clip: rect(1px 1px 1px 1px);clip: rect(1px, 1px, 1px, 1px);height: 1px;margin: -1px;overflow: hidden;padding: 0;position: absolute;width: 1px;}#sk-container-id-2 div.sk-estimator {font-family: monospace;background-color: #f0f8ff;border: 1px dotted black;border-radius: 0.25em;box-sizing: border-box;margin-bottom: 0.5em;}#sk-container-id-2 div.sk-estimator:hover {background-color: #d4ebff;}#sk-container-id-2 div.sk-parallel-item::after {content: \"\";width: 100%;border-bottom: 1px solid gray;flex-grow: 1;}#sk-container-id-2 div.sk-label:hover label.sk-toggleable__label {background-color: #d4ebff;}#sk-container-id-2 div.sk-serial::before {content: \"\";position: absolute;border-left: 1px solid gray;box-sizing: border-box;top: 0;bottom: 0;left: 50%;z-index: 0;}#sk-container-id-2 div.sk-serial {display: flex;flex-direction: column;align-items: center;background-color: white;padding-right: 0.2em;padding-left: 0.2em;position: relative;}#sk-container-id-2 div.sk-item {position: relative;z-index: 1;}#sk-container-id-2 div.sk-parallel {display: flex;align-items: stretch;justify-content: center;background-color: white;position: relative;}#sk-container-id-2 div.sk-item::before, #sk-container-id-2 div.sk-parallel-item::before {content: \"\";position: absolute;border-left: 1px solid gray;box-sizing: border-box;top: 0;bottom: 0;left: 50%;z-index: -1;}#sk-container-id-2 div.sk-parallel-item {display: flex;flex-direction: column;z-index: 1;position: relative;background-color: white;}#sk-container-id-2 div.sk-parallel-item:first-child::after {align-self: flex-end;width: 50%;}#sk-container-id-2 div.sk-parallel-item:last-child::after {align-self: flex-start;width: 50%;}#sk-container-id-2 div.sk-parallel-item:only-child::after {width: 0;}#sk-container-id-2 div.sk-dashed-wrapped {border: 1px dashed gray;margin: 0 0.4em 0.5em 0.4em;box-sizing: border-box;padding-bottom: 0.4em;background-color: white;}#sk-container-id-2 div.sk-label label {font-family: monospace;font-weight: bold;display: inline-block;line-height: 1.2em;}#sk-container-id-2 div.sk-label-container {text-align: center;}#sk-container-id-2 div.sk-container {/* jupyter's `normalize.less` sets `[hidden] { display: none; }` but bootstrap.min.css set `[hidden] { display: none !important; }` so we also need the `!important` here to be able to override the default hidden behavior on the sphinx rendered scikit-learn.org. See: https://github.com/scikit-learn/scikit-learn/issues/21755 */display: inline-block !important;position: relative;}#sk-container-id-2 div.sk-text-repr-fallback {display: none;}</style><div id=\"sk-container-id-2\" class=\"sk-top-container\"><div class=\"sk-text-repr-fallback\"><pre>GaussianNB()</pre><b>In a Jupyter environment, please rerun this cell to show the HTML representation or trust the notebook. <br />On GitHub, the HTML representation is unable to render, please try loading this page with nbviewer.org.</b></div><div class=\"sk-container\" hidden><div class=\"sk-item\"><div class=\"sk-estimator sk-toggleable\"><input class=\"sk-toggleable__control sk-hidden--visually\" id=\"sk-estimator-id-2\" type=\"checkbox\" checked><label for=\"sk-estimator-id-2\" class=\"sk-toggleable__label sk-toggleable__label-arrow\">GaussianNB</label><div class=\"sk-toggleable__content\"><pre>GaussianNB()</pre></div></div></div></div></div>"
      ],
      "text/plain": [
       "GaussianNB()"
      ]
     },
     "execution_count": 16,
     "metadata": {},
     "output_type": "execute_result"
    }
   ],
   "source": [
    "classifier_nb = GaussianNB()\n",
    "classifier_nb.fit(X_train_vectorized.toarray(), y_train)"
   ]
  },
  {
   "cell_type": "code",
   "execution_count": 17,
   "metadata": {},
   "outputs": [
    {
     "name": "stdout",
     "output_type": "stream",
     "text": [
      "Naive Bayes Validation Accuracy:  0.7826492537313433\n"
     ]
    }
   ],
   "source": [
    "accuracy_val_nb = classifier_nb.score(X_val_vectorized.toarray(), y_val)\n",
    "print(\"Naive Bayes Validation Accuracy: \", accuracy_val_nb)"
   ]
  },
  {
   "cell_type": "markdown",
   "metadata": {},
   "source": [
    "### Model 3: RandomForestClassifier"
   ]
  },
  {
   "cell_type": "code",
   "execution_count": 18,
   "metadata": {},
   "outputs": [
    {
     "data": {
      "text/html": [
       "<style>#sk-container-id-3 {color: black;}#sk-container-id-3 pre{padding: 0;}#sk-container-id-3 div.sk-toggleable {background-color: white;}#sk-container-id-3 label.sk-toggleable__label {cursor: pointer;display: block;width: 100%;margin-bottom: 0;padding: 0.3em;box-sizing: border-box;text-align: center;}#sk-container-id-3 label.sk-toggleable__label-arrow:before {content: \"▸\";float: left;margin-right: 0.25em;color: #696969;}#sk-container-id-3 label.sk-toggleable__label-arrow:hover:before {color: black;}#sk-container-id-3 div.sk-estimator:hover label.sk-toggleable__label-arrow:before {color: black;}#sk-container-id-3 div.sk-toggleable__content {max-height: 0;max-width: 0;overflow: hidden;text-align: left;background-color: #f0f8ff;}#sk-container-id-3 div.sk-toggleable__content pre {margin: 0.2em;color: black;border-radius: 0.25em;background-color: #f0f8ff;}#sk-container-id-3 input.sk-toggleable__control:checked~div.sk-toggleable__content {max-height: 200px;max-width: 100%;overflow: auto;}#sk-container-id-3 input.sk-toggleable__control:checked~label.sk-toggleable__label-arrow:before {content: \"▾\";}#sk-container-id-3 div.sk-estimator input.sk-toggleable__control:checked~label.sk-toggleable__label {background-color: #d4ebff;}#sk-container-id-3 div.sk-label input.sk-toggleable__control:checked~label.sk-toggleable__label {background-color: #d4ebff;}#sk-container-id-3 input.sk-hidden--visually {border: 0;clip: rect(1px 1px 1px 1px);clip: rect(1px, 1px, 1px, 1px);height: 1px;margin: -1px;overflow: hidden;padding: 0;position: absolute;width: 1px;}#sk-container-id-3 div.sk-estimator {font-family: monospace;background-color: #f0f8ff;border: 1px dotted black;border-radius: 0.25em;box-sizing: border-box;margin-bottom: 0.5em;}#sk-container-id-3 div.sk-estimator:hover {background-color: #d4ebff;}#sk-container-id-3 div.sk-parallel-item::after {content: \"\";width: 100%;border-bottom: 1px solid gray;flex-grow: 1;}#sk-container-id-3 div.sk-label:hover label.sk-toggleable__label {background-color: #d4ebff;}#sk-container-id-3 div.sk-serial::before {content: \"\";position: absolute;border-left: 1px solid gray;box-sizing: border-box;top: 0;bottom: 0;left: 50%;z-index: 0;}#sk-container-id-3 div.sk-serial {display: flex;flex-direction: column;align-items: center;background-color: white;padding-right: 0.2em;padding-left: 0.2em;position: relative;}#sk-container-id-3 div.sk-item {position: relative;z-index: 1;}#sk-container-id-3 div.sk-parallel {display: flex;align-items: stretch;justify-content: center;background-color: white;position: relative;}#sk-container-id-3 div.sk-item::before, #sk-container-id-3 div.sk-parallel-item::before {content: \"\";position: absolute;border-left: 1px solid gray;box-sizing: border-box;top: 0;bottom: 0;left: 50%;z-index: -1;}#sk-container-id-3 div.sk-parallel-item {display: flex;flex-direction: column;z-index: 1;position: relative;background-color: white;}#sk-container-id-3 div.sk-parallel-item:first-child::after {align-self: flex-end;width: 50%;}#sk-container-id-3 div.sk-parallel-item:last-child::after {align-self: flex-start;width: 50%;}#sk-container-id-3 div.sk-parallel-item:only-child::after {width: 0;}#sk-container-id-3 div.sk-dashed-wrapped {border: 1px dashed gray;margin: 0 0.4em 0.5em 0.4em;box-sizing: border-box;padding-bottom: 0.4em;background-color: white;}#sk-container-id-3 div.sk-label label {font-family: monospace;font-weight: bold;display: inline-block;line-height: 1.2em;}#sk-container-id-3 div.sk-label-container {text-align: center;}#sk-container-id-3 div.sk-container {/* jupyter's `normalize.less` sets `[hidden] { display: none; }` but bootstrap.min.css set `[hidden] { display: none !important; }` so we also need the `!important` here to be able to override the default hidden behavior on the sphinx rendered scikit-learn.org. See: https://github.com/scikit-learn/scikit-learn/issues/21755 */display: inline-block !important;position: relative;}#sk-container-id-3 div.sk-text-repr-fallback {display: none;}</style><div id=\"sk-container-id-3\" class=\"sk-top-container\"><div class=\"sk-text-repr-fallback\"><pre>RandomForestClassifier()</pre><b>In a Jupyter environment, please rerun this cell to show the HTML representation or trust the notebook. <br />On GitHub, the HTML representation is unable to render, please try loading this page with nbviewer.org.</b></div><div class=\"sk-container\" hidden><div class=\"sk-item\"><div class=\"sk-estimator sk-toggleable\"><input class=\"sk-toggleable__control sk-hidden--visually\" id=\"sk-estimator-id-3\" type=\"checkbox\" checked><label for=\"sk-estimator-id-3\" class=\"sk-toggleable__label sk-toggleable__label-arrow\">RandomForestClassifier</label><div class=\"sk-toggleable__content\"><pre>RandomForestClassifier()</pre></div></div></div></div></div>"
      ],
      "text/plain": [
       "RandomForestClassifier()"
      ]
     },
     "execution_count": 18,
     "metadata": {},
     "output_type": "execute_result"
    }
   ],
   "source": [
    "classifier_rf = RandomForestClassifier()\n",
    "classifier_rf.fit(X_train_vectorized, y_train)"
   ]
  },
  {
   "cell_type": "code",
   "execution_count": 19,
   "metadata": {},
   "outputs": [
    {
     "name": "stdout",
     "output_type": "stream",
     "text": [
      "Random Forest Validation Accuracy:  0.8703358208955224\n"
     ]
    }
   ],
   "source": [
    "accuracy_val_rf = classifier_rf.score(X_val_vectorized, y_val)\n",
    "print(\"Random Forest Validation Accuracy: \", accuracy_val_rf)"
   ]
  },
  {
   "cell_type": "markdown",
   "metadata": {},
   "source": [
    "### Model 4: Logistic Regression"
   ]
  },
  {
   "cell_type": "code",
   "execution_count": 20,
   "metadata": {},
   "outputs": [
    {
     "data": {
      "text/html": [
       "<style>#sk-container-id-4 {color: black;}#sk-container-id-4 pre{padding: 0;}#sk-container-id-4 div.sk-toggleable {background-color: white;}#sk-container-id-4 label.sk-toggleable__label {cursor: pointer;display: block;width: 100%;margin-bottom: 0;padding: 0.3em;box-sizing: border-box;text-align: center;}#sk-container-id-4 label.sk-toggleable__label-arrow:before {content: \"▸\";float: left;margin-right: 0.25em;color: #696969;}#sk-container-id-4 label.sk-toggleable__label-arrow:hover:before {color: black;}#sk-container-id-4 div.sk-estimator:hover label.sk-toggleable__label-arrow:before {color: black;}#sk-container-id-4 div.sk-toggleable__content {max-height: 0;max-width: 0;overflow: hidden;text-align: left;background-color: #f0f8ff;}#sk-container-id-4 div.sk-toggleable__content pre {margin: 0.2em;color: black;border-radius: 0.25em;background-color: #f0f8ff;}#sk-container-id-4 input.sk-toggleable__control:checked~div.sk-toggleable__content {max-height: 200px;max-width: 100%;overflow: auto;}#sk-container-id-4 input.sk-toggleable__control:checked~label.sk-toggleable__label-arrow:before {content: \"▾\";}#sk-container-id-4 div.sk-estimator input.sk-toggleable__control:checked~label.sk-toggleable__label {background-color: #d4ebff;}#sk-container-id-4 div.sk-label input.sk-toggleable__control:checked~label.sk-toggleable__label {background-color: #d4ebff;}#sk-container-id-4 input.sk-hidden--visually {border: 0;clip: rect(1px 1px 1px 1px);clip: rect(1px, 1px, 1px, 1px);height: 1px;margin: -1px;overflow: hidden;padding: 0;position: absolute;width: 1px;}#sk-container-id-4 div.sk-estimator {font-family: monospace;background-color: #f0f8ff;border: 1px dotted black;border-radius: 0.25em;box-sizing: border-box;margin-bottom: 0.5em;}#sk-container-id-4 div.sk-estimator:hover {background-color: #d4ebff;}#sk-container-id-4 div.sk-parallel-item::after {content: \"\";width: 100%;border-bottom: 1px solid gray;flex-grow: 1;}#sk-container-id-4 div.sk-label:hover label.sk-toggleable__label {background-color: #d4ebff;}#sk-container-id-4 div.sk-serial::before {content: \"\";position: absolute;border-left: 1px solid gray;box-sizing: border-box;top: 0;bottom: 0;left: 50%;z-index: 0;}#sk-container-id-4 div.sk-serial {display: flex;flex-direction: column;align-items: center;background-color: white;padding-right: 0.2em;padding-left: 0.2em;position: relative;}#sk-container-id-4 div.sk-item {position: relative;z-index: 1;}#sk-container-id-4 div.sk-parallel {display: flex;align-items: stretch;justify-content: center;background-color: white;position: relative;}#sk-container-id-4 div.sk-item::before, #sk-container-id-4 div.sk-parallel-item::before {content: \"\";position: absolute;border-left: 1px solid gray;box-sizing: border-box;top: 0;bottom: 0;left: 50%;z-index: -1;}#sk-container-id-4 div.sk-parallel-item {display: flex;flex-direction: column;z-index: 1;position: relative;background-color: white;}#sk-container-id-4 div.sk-parallel-item:first-child::after {align-self: flex-end;width: 50%;}#sk-container-id-4 div.sk-parallel-item:last-child::after {align-self: flex-start;width: 50%;}#sk-container-id-4 div.sk-parallel-item:only-child::after {width: 0;}#sk-container-id-4 div.sk-dashed-wrapped {border: 1px dashed gray;margin: 0 0.4em 0.5em 0.4em;box-sizing: border-box;padding-bottom: 0.4em;background-color: white;}#sk-container-id-4 div.sk-label label {font-family: monospace;font-weight: bold;display: inline-block;line-height: 1.2em;}#sk-container-id-4 div.sk-label-container {text-align: center;}#sk-container-id-4 div.sk-container {/* jupyter's `normalize.less` sets `[hidden] { display: none; }` but bootstrap.min.css set `[hidden] { display: none !important; }` so we also need the `!important` here to be able to override the default hidden behavior on the sphinx rendered scikit-learn.org. See: https://github.com/scikit-learn/scikit-learn/issues/21755 */display: inline-block !important;position: relative;}#sk-container-id-4 div.sk-text-repr-fallback {display: none;}</style><div id=\"sk-container-id-4\" class=\"sk-top-container\"><div class=\"sk-text-repr-fallback\"><pre>LogisticRegression()</pre><b>In a Jupyter environment, please rerun this cell to show the HTML representation or trust the notebook. <br />On GitHub, the HTML representation is unable to render, please try loading this page with nbviewer.org.</b></div><div class=\"sk-container\" hidden><div class=\"sk-item\"><div class=\"sk-estimator sk-toggleable\"><input class=\"sk-toggleable__control sk-hidden--visually\" id=\"sk-estimator-id-4\" type=\"checkbox\" checked><label for=\"sk-estimator-id-4\" class=\"sk-toggleable__label sk-toggleable__label-arrow\">LogisticRegression</label><div class=\"sk-toggleable__content\"><pre>LogisticRegression()</pre></div></div></div></div></div>"
      ],
      "text/plain": [
       "LogisticRegression()"
      ]
     },
     "execution_count": 20,
     "metadata": {},
     "output_type": "execute_result"
    }
   ],
   "source": [
    "classifier_lr = LogisticRegression()\n",
    "classifier_lr.fit(X_train_vectorized, y_train)"
   ]
  },
  {
   "cell_type": "code",
   "execution_count": 21,
   "metadata": {},
   "outputs": [
    {
     "name": "stdout",
     "output_type": "stream",
     "text": [
      "Logistic Regression Validation Accuracy:  0.917910447761194\n"
     ]
    }
   ],
   "source": [
    "accuracy_val_lr = classifier_lr.score(X_val_vectorized, y_val)\n",
    "print(\"Logistic Regression Validation Accuracy: \", accuracy_val_lr)"
   ]
  },
  {
   "cell_type": "markdown",
   "metadata": {},
   "source": [
    "### Model 5: Neural Network Model"
   ]
  },
  {
   "cell_type": "code",
   "execution_count": 22,
   "metadata": {},
   "outputs": [
    {
     "name": "stdout",
     "output_type": "stream",
     "text": [
      "119.66143966547192\n"
     ]
    }
   ],
   "source": [
    "# add data length row\n",
    "data['content_len'] = data['content'].apply(lambda x: len(x.split()))\n",
    "# now let us calcualte the mean value\n",
    "mean = np.mean(data['content_len'])\n",
    "print(mean) # will be used in tokenization"
   ]
  },
  {
   "cell_type": "code",
   "execution_count": 23,
   "metadata": {},
   "outputs": [],
   "source": [
    "# Tokenization\n",
    "max_length = 150\n",
    "tokenizer = Tokenizer()\n",
    "tokenizer.fit_on_texts(X_train)\n",
    "\n",
    "X_train_sequences = tokenizer.texts_to_sequences(X_train)\n",
    "X_val_sequences = tokenizer.texts_to_sequences(X_val)\n",
    "X_test_sequences = tokenizer.texts_to_sequences(X_test)\n",
    "\n",
    "X_train_padded = pad_sequences(X_train_sequences, maxlen=max_length, padding='post', truncating='post')\n",
    "X_val_padded = pad_sequences(X_val_sequences, maxlen=max_length, padding='post', truncating='post')\n",
    "X_test_padded = pad_sequences(X_test_sequences, maxlen=max_length, padding='post', truncating='post')"
   ]
  },
  {
   "cell_type": "code",
   "execution_count": 28,
   "metadata": {},
   "outputs": [
    {
     "name": "stdout",
     "output_type": "stream",
     "text": [
      "Model: \"sequential_1\"\n",
      "_________________________________________________________________\n",
      " Layer (type)                Output Shape              Param #   \n",
      "=================================================================\n",
      " embedding_1 (Embedding)     (None, 150, 16)           593392    \n",
      "                                                                 \n",
      " global_average_pooling1d_1  (None, 16)                0         \n",
      "  (GlobalAveragePooling1D)                                       \n",
      "                                                                 \n",
      " dense_3 (Dense)             (None, 16)                272       \n",
      "                                                                 \n",
      " dense_4 (Dense)             (None, 6)                 102       \n",
      "                                                                 \n",
      "=================================================================\n",
      "Total params: 593766 (2.27 MB)\n",
      "Trainable params: 593766 (2.27 MB)\n",
      "Non-trainable params: 0 (0.00 Byte)\n",
      "_________________________________________________________________\n"
     ]
    }
   ],
   "source": [
    "# Build and Train Neural Network Model\n",
    "\n",
    "model = Sequential(\n",
    "    [\n",
    "        Embedding(input_dim=len(tokenizer.word_index)+1, output_dim=16, input_length=max_length),\n",
    "        GlobalAvgPool1D(),\n",
    "        Dense(16, activation='relu'),\n",
    "        Dense(len(label_encoder.classes_), activation='softmax')\n",
    "    ]\n",
    ")\n",
    "\n",
    "model.compile(loss='sparse_categorical_crossentropy', optimizer='adam', metrics=['accuracy'])\n",
    "model.summary()"
   ]
  },
  {
   "cell_type": "code",
   "execution_count": 29,
   "metadata": {},
   "outputs": [
    {
     "name": "stdout",
     "output_type": "stream",
     "text": [
      "Epoch 1/100\n"
     ]
    },
    {
     "name": "stdout",
     "output_type": "stream",
     "text": [
      "134/134 [==============================] - 2s 10ms/step - loss: 1.7298 - accuracy: 0.2603 - val_loss: 1.6307 - val_accuracy: 0.2668\n",
      "Epoch 2/100\n",
      "134/134 [==============================] - 1s 6ms/step - loss: 1.4952 - accuracy: 0.4435 - val_loss: 1.2995 - val_accuracy: 0.7034\n",
      "Epoch 3/100\n",
      "134/134 [==============================] - 1s 7ms/step - loss: 1.1287 - accuracy: 0.7225 - val_loss: 0.9501 - val_accuracy: 0.7649\n",
      "Epoch 4/100\n",
      "134/134 [==============================] - 1s 6ms/step - loss: 0.8411 - accuracy: 0.7663 - val_loss: 0.7419 - val_accuracy: 0.7985\n",
      "Epoch 5/100\n",
      "134/134 [==============================] - 1s 7ms/step - loss: 0.6617 - accuracy: 0.7887 - val_loss: 0.6214 - val_accuracy: 0.8172\n",
      "Epoch 6/100\n",
      "134/134 [==============================] - 1s 6ms/step - loss: 0.5337 - accuracy: 0.8364 - val_loss: 0.5391 - val_accuracy: 0.8563\n",
      "Epoch 7/100\n",
      "134/134 [==============================] - 1s 6ms/step - loss: 0.4308 - accuracy: 0.8810 - val_loss: 0.4719 - val_accuracy: 0.8703\n",
      "Epoch 8/100\n",
      "134/134 [==============================] - 1s 6ms/step - loss: 0.3451 - accuracy: 0.9052 - val_loss: 0.4172 - val_accuracy: 0.8853\n",
      "Epoch 9/100\n",
      "134/134 [==============================] - 1s 7ms/step - loss: 0.2765 - accuracy: 0.9251 - val_loss: 0.3804 - val_accuracy: 0.8871\n",
      "Epoch 10/100\n",
      "134/134 [==============================] - 1s 7ms/step - loss: 0.2232 - accuracy: 0.9470 - val_loss: 0.3499 - val_accuracy: 0.8993\n",
      "Epoch 11/100\n",
      "134/134 [==============================] - 1s 7ms/step - loss: 0.1819 - accuracy: 0.9678 - val_loss: 0.3282 - val_accuracy: 0.9039\n",
      "Epoch 12/100\n",
      "134/134 [==============================] - 1s 7ms/step - loss: 0.1487 - accuracy: 0.9757 - val_loss: 0.3133 - val_accuracy: 0.9067\n",
      "Epoch 13/100\n",
      "134/134 [==============================] - 1s 7ms/step - loss: 0.1221 - accuracy: 0.9825 - val_loss: 0.3037 - val_accuracy: 0.9095\n",
      "Epoch 14/100\n",
      "134/134 [==============================] - 1s 7ms/step - loss: 0.1009 - accuracy: 0.9858 - val_loss: 0.2937 - val_accuracy: 0.9114\n",
      "Epoch 15/100\n",
      "134/134 [==============================] - 1s 7ms/step - loss: 0.0836 - accuracy: 0.9893 - val_loss: 0.2867 - val_accuracy: 0.9151\n",
      "Epoch 16/100\n",
      "134/134 [==============================] - 1s 7ms/step - loss: 0.0697 - accuracy: 0.9918 - val_loss: 0.2815 - val_accuracy: 0.9216\n",
      "Epoch 17/100\n",
      "134/134 [==============================] - 1s 7ms/step - loss: 0.0582 - accuracy: 0.9937 - val_loss: 0.2766 - val_accuracy: 0.9254\n",
      "Epoch 18/100\n",
      "134/134 [==============================] - 1s 7ms/step - loss: 0.0492 - accuracy: 0.9944 - val_loss: 0.2744 - val_accuracy: 0.9216\n",
      "Epoch 19/100\n",
      "134/134 [==============================] - 1s 7ms/step - loss: 0.0416 - accuracy: 0.9951 - val_loss: 0.2730 - val_accuracy: 0.9282\n",
      "Epoch 20/100\n",
      "134/134 [==============================] - 1s 7ms/step - loss: 0.0358 - accuracy: 0.9956 - val_loss: 0.2700 - val_accuracy: 0.9282\n",
      "Epoch 21/100\n",
      "134/134 [==============================] - 1s 7ms/step - loss: 0.0311 - accuracy: 0.9963 - val_loss: 0.2702 - val_accuracy: 0.9282\n",
      "Epoch 22/100\n",
      "134/134 [==============================] - 1s 7ms/step - loss: 0.0272 - accuracy: 0.9965 - val_loss: 0.2681 - val_accuracy: 0.9282\n",
      "Epoch 23/100\n",
      "134/134 [==============================] - 1s 7ms/step - loss: 0.0241 - accuracy: 0.9970 - val_loss: 0.2690 - val_accuracy: 0.9263\n",
      "Epoch 24/100\n",
      "134/134 [==============================] - 1s 7ms/step - loss: 0.0216 - accuracy: 0.9970 - val_loss: 0.2700 - val_accuracy: 0.9272\n",
      "Epoch 25/100\n",
      "134/134 [==============================] - 1s 6ms/step - loss: 0.0197 - accuracy: 0.9967 - val_loss: 0.2678 - val_accuracy: 0.9272\n",
      "Epoch 26/100\n",
      "134/134 [==============================] - 1s 7ms/step - loss: 0.0178 - accuracy: 0.9967 - val_loss: 0.2714 - val_accuracy: 0.9263\n",
      "Epoch 27/100\n",
      "134/134 [==============================] - 1s 7ms/step - loss: 0.0163 - accuracy: 0.9967 - val_loss: 0.2692 - val_accuracy: 0.9263\n",
      "Epoch 28/100\n",
      "134/134 [==============================] - 1s 7ms/step - loss: 0.0150 - accuracy: 0.9967 - val_loss: 0.2683 - val_accuracy: 0.9282\n",
      "Epoch 29/100\n",
      "134/134 [==============================] - 1s 7ms/step - loss: 0.0141 - accuracy: 0.9963 - val_loss: 0.2705 - val_accuracy: 0.9282\n",
      "Epoch 30/100\n",
      "134/134 [==============================] - 1s 7ms/step - loss: 0.0130 - accuracy: 0.9967 - val_loss: 0.2685 - val_accuracy: 0.9291\n",
      "Epoch 31/100\n",
      "134/134 [==============================] - 1s 7ms/step - loss: 0.0125 - accuracy: 0.9970 - val_loss: 0.2713 - val_accuracy: 0.9291\n",
      "Epoch 32/100\n",
      "134/134 [==============================] - 1s 7ms/step - loss: 0.0117 - accuracy: 0.9967 - val_loss: 0.2719 - val_accuracy: 0.9272\n",
      "Epoch 33/100\n",
      "134/134 [==============================] - 1s 7ms/step - loss: 0.0110 - accuracy: 0.9965 - val_loss: 0.2714 - val_accuracy: 0.9272\n",
      "Epoch 34/100\n",
      "134/134 [==============================] - 1s 7ms/step - loss: 0.0105 - accuracy: 0.9972 - val_loss: 0.2756 - val_accuracy: 0.9282\n",
      "Epoch 35/100\n",
      "134/134 [==============================] - 1s 7ms/step - loss: 0.0103 - accuracy: 0.9965 - val_loss: 0.2738 - val_accuracy: 0.9300\n",
      "Epoch 36/100\n",
      "134/134 [==============================] - 1s 7ms/step - loss: 0.0098 - accuracy: 0.9967 - val_loss: 0.2725 - val_accuracy: 0.9319\n",
      "Epoch 37/100\n",
      "134/134 [==============================] - 1s 7ms/step - loss: 0.0094 - accuracy: 0.9963 - val_loss: 0.2736 - val_accuracy: 0.9282\n",
      "Epoch 38/100\n",
      "134/134 [==============================] - 1s 7ms/step - loss: 0.0088 - accuracy: 0.9972 - val_loss: 0.2777 - val_accuracy: 0.9272\n",
      "Epoch 39/100\n",
      "134/134 [==============================] - 1s 7ms/step - loss: 0.0087 - accuracy: 0.9965 - val_loss: 0.2785 - val_accuracy: 0.9282\n",
      "Epoch 40/100\n",
      "134/134 [==============================] - 1s 7ms/step - loss: 0.0086 - accuracy: 0.9967 - val_loss: 0.2784 - val_accuracy: 0.9319\n",
      "Epoch 41/100\n",
      "134/134 [==============================] - 1s 7ms/step - loss: 0.0082 - accuracy: 0.9970 - val_loss: 0.2755 - val_accuracy: 0.9272\n",
      "Epoch 42/100\n",
      "134/134 [==============================] - 1s 7ms/step - loss: 0.0085 - accuracy: 0.9965 - val_loss: 0.2785 - val_accuracy: 0.9291\n",
      "Epoch 43/100\n",
      "134/134 [==============================] - 1s 7ms/step - loss: 0.0080 - accuracy: 0.9965 - val_loss: 0.2785 - val_accuracy: 0.9310\n",
      "Epoch 44/100\n",
      "134/134 [==============================] - 1s 7ms/step - loss: 0.0078 - accuracy: 0.9967 - val_loss: 0.2808 - val_accuracy: 0.9291\n",
      "Epoch 45/100\n",
      "134/134 [==============================] - 1s 7ms/step - loss: 0.0078 - accuracy: 0.9970 - val_loss: 0.2906 - val_accuracy: 0.9310\n",
      "Epoch 46/100\n",
      "134/134 [==============================] - 1s 7ms/step - loss: 0.0079 - accuracy: 0.9965 - val_loss: 0.2836 - val_accuracy: 0.9282\n",
      "Epoch 47/100\n",
      "134/134 [==============================] - 1s 7ms/step - loss: 0.0076 - accuracy: 0.9963 - val_loss: 0.2831 - val_accuracy: 0.9310\n",
      "Epoch 48/100\n",
      "134/134 [==============================] - 1s 7ms/step - loss: 0.0074 - accuracy: 0.9967 - val_loss: 0.2870 - val_accuracy: 0.9291\n",
      "Epoch 49/100\n",
      "134/134 [==============================] - 1s 7ms/step - loss: 0.0074 - accuracy: 0.9965 - val_loss: 0.2832 - val_accuracy: 0.9300\n",
      "Epoch 50/100\n",
      "134/134 [==============================] - 1s 7ms/step - loss: 0.0072 - accuracy: 0.9965 - val_loss: 0.2850 - val_accuracy: 0.9291\n",
      "Epoch 51/100\n",
      "134/134 [==============================] - 1s 7ms/step - loss: 0.0072 - accuracy: 0.9970 - val_loss: 0.2865 - val_accuracy: 0.9310\n",
      "Epoch 52/100\n",
      "134/134 [==============================] - 1s 7ms/step - loss: 0.0070 - accuracy: 0.9972 - val_loss: 0.2844 - val_accuracy: 0.9282\n",
      "Epoch 53/100\n",
      "134/134 [==============================] - 1s 7ms/step - loss: 0.0070 - accuracy: 0.9967 - val_loss: 0.2879 - val_accuracy: 0.9282\n",
      "Epoch 54/100\n",
      "134/134 [==============================] - 1s 7ms/step - loss: 0.0070 - accuracy: 0.9965 - val_loss: 0.2852 - val_accuracy: 0.9300\n",
      "Epoch 55/100\n",
      "134/134 [==============================] - 1s 7ms/step - loss: 0.0067 - accuracy: 0.9970 - val_loss: 0.2906 - val_accuracy: 0.9310\n",
      "Epoch 56/100\n",
      "134/134 [==============================] - 1s 7ms/step - loss: 0.0068 - accuracy: 0.9967 - val_loss: 0.2869 - val_accuracy: 0.9310\n",
      "Epoch 57/100\n",
      "134/134 [==============================] - 1s 7ms/step - loss: 0.0066 - accuracy: 0.9967 - val_loss: 0.2880 - val_accuracy: 0.9310\n",
      "Epoch 58/100\n",
      "134/134 [==============================] - 1s 7ms/step - loss: 0.0069 - accuracy: 0.9963 - val_loss: 0.2930 - val_accuracy: 0.9300\n",
      "Epoch 59/100\n",
      "134/134 [==============================] - 1s 7ms/step - loss: 0.0065 - accuracy: 0.9970 - val_loss: 0.2888 - val_accuracy: 0.9300\n",
      "Epoch 60/100\n",
      "134/134 [==============================] - 1s 7ms/step - loss: 0.0064 - accuracy: 0.9970 - val_loss: 0.2891 - val_accuracy: 0.9347\n",
      "Epoch 61/100\n",
      "134/134 [==============================] - 1s 7ms/step - loss: 0.0066 - accuracy: 0.9965 - val_loss: 0.2895 - val_accuracy: 0.9300\n",
      "Epoch 62/100\n",
      "134/134 [==============================] - 1s 7ms/step - loss: 0.0067 - accuracy: 0.9965 - val_loss: 0.2936 - val_accuracy: 0.9319\n",
      "Epoch 63/100\n",
      "134/134 [==============================] - 1s 7ms/step - loss: 0.0067 - accuracy: 0.9965 - val_loss: 0.2916 - val_accuracy: 0.9310\n",
      "Epoch 64/100\n",
      "134/134 [==============================] - 1s 7ms/step - loss: 0.0063 - accuracy: 0.9965 - val_loss: 0.2921 - val_accuracy: 0.9319\n",
      "Epoch 65/100\n",
      "134/134 [==============================] - 1s 7ms/step - loss: 0.0067 - accuracy: 0.9963 - val_loss: 0.2948 - val_accuracy: 0.9300\n",
      "Epoch 66/100\n",
      "134/134 [==============================] - 1s 7ms/step - loss: 0.0062 - accuracy: 0.9965 - val_loss: 0.2945 - val_accuracy: 0.9319\n",
      "Epoch 67/100\n",
      "134/134 [==============================] - 1s 7ms/step - loss: 0.0064 - accuracy: 0.9967 - val_loss: 0.2957 - val_accuracy: 0.9338\n",
      "Epoch 68/100\n",
      "134/134 [==============================] - 1s 7ms/step - loss: 0.0062 - accuracy: 0.9967 - val_loss: 0.2966 - val_accuracy: 0.9338\n",
      "Epoch 69/100\n",
      "134/134 [==============================] - 1s 7ms/step - loss: 0.0063 - accuracy: 0.9965 - val_loss: 0.3020 - val_accuracy: 0.9272\n",
      "Epoch 70/100\n",
      "134/134 [==============================] - 1s 7ms/step - loss: 0.0065 - accuracy: 0.9965 - val_loss: 0.2974 - val_accuracy: 0.9310\n",
      "Epoch 71/100\n",
      "134/134 [==============================] - 1s 7ms/step - loss: 0.0065 - accuracy: 0.9965 - val_loss: 0.2975 - val_accuracy: 0.9300\n",
      "Epoch 72/100\n",
      "134/134 [==============================] - 1s 7ms/step - loss: 0.0063 - accuracy: 0.9967 - val_loss: 0.2965 - val_accuracy: 0.9300\n",
      "Epoch 73/100\n",
      "134/134 [==============================] - 1s 7ms/step - loss: 0.0063 - accuracy: 0.9963 - val_loss: 0.2957 - val_accuracy: 0.9300\n",
      "Epoch 74/100\n",
      "134/134 [==============================] - 1s 7ms/step - loss: 0.0060 - accuracy: 0.9967 - val_loss: 0.2964 - val_accuracy: 0.9300\n",
      "Epoch 75/100\n",
      "134/134 [==============================] - 1s 7ms/step - loss: 0.0062 - accuracy: 0.9970 - val_loss: 0.2972 - val_accuracy: 0.9310\n",
      "Epoch 76/100\n",
      "134/134 [==============================] - 1s 7ms/step - loss: 0.0062 - accuracy: 0.9967 - val_loss: 0.3007 - val_accuracy: 0.9319\n",
      "Epoch 77/100\n",
      "134/134 [==============================] - 1s 7ms/step - loss: 0.0061 - accuracy: 0.9974 - val_loss: 0.2998 - val_accuracy: 0.9319\n",
      "Epoch 78/100\n",
      "134/134 [==============================] - 1s 7ms/step - loss: 0.0065 - accuracy: 0.9967 - val_loss: 0.2958 - val_accuracy: 0.9310\n",
      "Epoch 79/100\n",
      "134/134 [==============================] - 1s 7ms/step - loss: 0.0062 - accuracy: 0.9970 - val_loss: 0.3016 - val_accuracy: 0.9300\n",
      "Epoch 80/100\n",
      "134/134 [==============================] - 1s 7ms/step - loss: 0.0062 - accuracy: 0.9970 - val_loss: 0.2975 - val_accuracy: 0.9319\n",
      "Epoch 81/100\n",
      "134/134 [==============================] - 1s 7ms/step - loss: 0.0060 - accuracy: 0.9970 - val_loss: 0.3012 - val_accuracy: 0.9300\n",
      "Epoch 82/100\n",
      "134/134 [==============================] - 1s 7ms/step - loss: 0.0061 - accuracy: 0.9963 - val_loss: 0.3050 - val_accuracy: 0.9338\n",
      "Epoch 83/100\n",
      "134/134 [==============================] - 1s 7ms/step - loss: 0.0062 - accuracy: 0.9972 - val_loss: 0.3019 - val_accuracy: 0.9291\n",
      "Epoch 84/100\n",
      "134/134 [==============================] - 1s 7ms/step - loss: 0.0062 - accuracy: 0.9965 - val_loss: 0.3051 - val_accuracy: 0.9291\n",
      "Epoch 85/100\n",
      "134/134 [==============================] - 1s 7ms/step - loss: 0.0061 - accuracy: 0.9970 - val_loss: 0.3092 - val_accuracy: 0.9272\n",
      "Epoch 86/100\n",
      "134/134 [==============================] - 1s 7ms/step - loss: 0.0061 - accuracy: 0.9970 - val_loss: 0.3082 - val_accuracy: 0.9319\n",
      "Epoch 87/100\n",
      "134/134 [==============================] - 1s 7ms/step - loss: 0.0062 - accuracy: 0.9965 - val_loss: 0.3052 - val_accuracy: 0.9300\n",
      "Epoch 88/100\n",
      "134/134 [==============================] - 1s 7ms/step - loss: 0.0061 - accuracy: 0.9965 - val_loss: 0.3137 - val_accuracy: 0.9338\n",
      "Epoch 89/100\n",
      "134/134 [==============================] - 1s 7ms/step - loss: 0.0063 - accuracy: 0.9967 - val_loss: 0.3073 - val_accuracy: 0.9310\n",
      "Epoch 90/100\n",
      "134/134 [==============================] - 1s 7ms/step - loss: 0.0059 - accuracy: 0.9967 - val_loss: 0.3075 - val_accuracy: 0.9300\n",
      "Epoch 91/100\n",
      "134/134 [==============================] - 1s 7ms/step - loss: 0.0061 - accuracy: 0.9965 - val_loss: 0.3074 - val_accuracy: 0.9291\n",
      "Epoch 92/100\n",
      "134/134 [==============================] - 1s 7ms/step - loss: 0.0059 - accuracy: 0.9967 - val_loss: 0.3090 - val_accuracy: 0.9282\n",
      "Epoch 93/100\n",
      "134/134 [==============================] - 1s 7ms/step - loss: 0.0062 - accuracy: 0.9970 - val_loss: 0.3095 - val_accuracy: 0.9319\n",
      "Epoch 94/100\n",
      "134/134 [==============================] - 1s 7ms/step - loss: 0.0062 - accuracy: 0.9967 - val_loss: 0.3115 - val_accuracy: 0.9300\n",
      "Epoch 95/100\n",
      "134/134 [==============================] - 1s 7ms/step - loss: 0.0061 - accuracy: 0.9970 - val_loss: 0.3156 - val_accuracy: 0.9328\n",
      "Epoch 96/100\n",
      "134/134 [==============================] - 1s 7ms/step - loss: 0.0059 - accuracy: 0.9967 - val_loss: 0.3121 - val_accuracy: 0.9282\n",
      "Epoch 97/100\n",
      "134/134 [==============================] - 1s 7ms/step - loss: 0.0063 - accuracy: 0.9967 - val_loss: 0.3143 - val_accuracy: 0.9300\n",
      "Epoch 98/100\n",
      "134/134 [==============================] - 1s 7ms/step - loss: 0.0060 - accuracy: 0.9970 - val_loss: 0.3180 - val_accuracy: 0.9310\n",
      "Epoch 99/100\n",
      "134/134 [==============================] - 1s 7ms/step - loss: 0.0061 - accuracy: 0.9963 - val_loss: 0.3153 - val_accuracy: 0.9254\n",
      "Epoch 100/100\n",
      "134/134 [==============================] - 1s 7ms/step - loss: 0.0061 - accuracy: 0.9970 - val_loss: 0.3125 - val_accuracy: 0.9263\n"
     ]
    }
   ],
   "source": [
    "history = model.fit(X_train_padded, y_train, epochs=100, validation_data=(X_val_padded, y_val))"
   ]
  },
  {
   "cell_type": "code",
   "execution_count": 30,
   "metadata": {},
   "outputs": [
    {
     "data": {
      "image/png": "[encoded data removed]",
      "text/plain": [
       "<Figure size 640x480 with 1 Axes>"
      ]
     },
     "metadata": {},
     "output_type": "display_data"
    },
    {
     "data": {
      "image/png": "[encoded data removed]",
      "text/plain": [
       "<Figure size 640x480 with 1 Axes>"
      ]
     },
     "metadata": {},
     "output_type": "display_data"
    }
   ],
   "source": [
    "# Evaluate Neural Network Model\n",
    "plot_accuracy(history)\n",
    "plot_loss(history)"
   ]
  },
  {
   "cell_type": "code",
   "execution_count": 31,
   "metadata": {},
   "outputs": [
    {
     "name": "stdout",
     "output_type": "stream",
     "text": [
      "42/42 [==============================] - 0s 3ms/step - loss: 0.3843 - accuracy: 0.9119\n",
      "Neural Network Test Accuracy:  0.9119402766227722\n"
     ]
    }
   ],
   "source": [
    "accuracy_test = model.evaluate(X_test_padded, y_test)[1]\n",
    "print(\"Neural Network Test Accuracy: \", accuracy_test)"
   ]
  },
  {
   "cell_type": "code",
   "execution_count": 35,
   "metadata": {},
   "outputs": [],
   "source": [
    "# Save the Neural Network Model\n",
    "from datetime import datetime\n",
    "timestamp = datetime.now().strftime(\"%Y%m%d\")\n",
    "accuracy_str = f\"{history.history['val_accuracy'][-1]:.4f}\"\n",
    "MODEL_PATH = 'trained_models/'\n",
    "MODEL_NAME = f'model_{timestamp}_accuracy_{accuracy_str}.h5'\n",
    "model.save(os.path.join(MODEL_PATH, MODEL_NAME))"
   ]
  },
  {
   "cell_type": "code",
   "execution_count": 36,
   "metadata": {},
   "outputs": [
    {
     "data": {
      "text/plain": [
       "['trained_models/label_encoder.joblib']"
      ]
     },
     "execution_count": 36,
     "metadata": {},
     "output_type": "execute_result"
    }
   ],
   "source": [
    "# Save Tokenizer and Label Encoder\n",
    "joblib.dump(tokenizer, os.path.join(MODEL_PATH, 'tokenizer.joblib'))\n",
    "joblib.dump(label_encoder, os.path.join(MODEL_PATH, 'label_encoder.joblib'))"
   ]
  },
  {
   "cell_type": "code",
   "execution_count": null,
   "metadata": {},
   "outputs": [],
   "source": [
    "# TODO: Modify the model to achieve better accuracy"
   ]
  }
 ],
 "metadata": {
  "kernelspec": {
   "display_name": "venv",
   "language": "python",
   "name": "python3"
  },
  "language_info": {
   "codemirror_mode": {
    "name": "ipython",
    "version": 3
   },
   "file_extension": ".py",
   "mimetype": "text/x-python",
   "name": "python",
   "nbconvert_exporter": "python",
   "pygments_lexer": "ipython3",
   "version": "3.11.5"
  }
 },
 "nbformat": 4,
 "nbformat_minor": 2
}
