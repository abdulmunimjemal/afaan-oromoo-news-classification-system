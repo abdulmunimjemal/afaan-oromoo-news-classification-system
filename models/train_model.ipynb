{
 "cells": [
  {
   "cell_type": "code",
   "execution_count": 1,
   "metadata": {},
   "outputs": [
    {
     "name": "stdout",
     "output_type": "stream",
     "text": [
      "WARNING:tensorflow:From c:\\Users\\Abdulmunim\\Desktop\\Dallol-i Projects\\my_project\\venv\\Lib\\site-packages\\keras\\src\\losses.py:2976: The name tf.losses.sparse_softmax_cross_entropy is deprecated. Please use tf.compat.v1.losses.sparse_softmax_cross_entropy instead.\n",
      "\n"
     ]
    }
   ],
   "source": [
    "import os\n",
    "import pandas as pd \n",
    "import numpy as np \n",
    "\n",
    "# Data preprocessors\n",
    "from sklearn.utils import shuffle \n",
    "from sklearn.model_selection import train_test_split\n",
    "from sklearn.feature_extraction.text import TfidfVectorizer\n",
    "from sklearn.preprocessing import LabelEncoder\n",
    "\n",
    "# ML Models (will evaluate each and choose)\n",
    "from sklearn.svm import SVC # Support Vector Machine Classifier\n",
    "from sklearn.naive_bayes import GaussianNB # Niave Bayes classifier\n",
    "from sklearn.ensemble import RandomForestClassifier # Random Forest classifier\n",
    "from sklearn.linear_model import LogisticRegression # Logistic Regression Classifier\n",
    "\n",
    "# Deep Learning Model\n",
    "from tensorflow.keras.models import Sequential\n",
    "from tensorflow.keras.layers import Embedding, GlobalAvgPool1D, Dense \n",
    "from tensorflow.keras.preprocessing.text import Tokenizer\n",
    "from tensorflow.keras.preprocessing.sequence import pad_sequences\n",
    "\n",
    "# Visualization\n",
    "import matplotlib.pyplot as plt\n",
    "\n",
    "# Dumping\n",
    "import joblib "
   ]
  },
  {
   "cell_type": "code",
   "execution_count": 10,
   "metadata": {},
   "outputs": [
    {
     "ename": "ModuleNotFoundError",
     "evalue": "No module named 'preprocessing_pipeline'",
     "output_type": "error",
     "traceback": [
      "\u001b[1;31m---------------------------------------------------------------------------\u001b[0m",
      "\u001b[1;31mModuleNotFoundError\u001b[0m                       Traceback (most recent call last)",
      "\u001b[1;32mc:\\Users\\Abdulmunim\\Desktop\\Dallol-i Projects\\my_project\\models\\train_model.ipynb Cell 2\u001b[0m line \u001b[0;36m2\n\u001b[0;32m      <a href='vscode-notebook-cell:/c%3A/Users/Abdulmunim/Desktop/Dallol-i%20Projects/my_project/models/train_model.ipynb#X13sZmlsZQ%3D%3D?line=0'>1</a>\u001b[0m \u001b[39m# Import local modules\u001b[39;00m\n\u001b[1;32m----> <a href='vscode-notebook-cell:/c%3A/Users/Abdulmunim/Desktop/Dallol-i%20Projects/my_project/models/train_model.ipynb#X13sZmlsZQ%3D%3D?line=1'>2</a>\u001b[0m \u001b[39mimport\u001b[39;00m \u001b[39mpreprocessing_pipeline\u001b[39;00m\n",
      "\u001b[1;31mModuleNotFoundError\u001b[0m: No module named 'preprocessing_pipeline'"
     ]
    }
   ],
   "source": [
    "# Import local modules\n",
    "import preprocessing_pipeline"
   ]
  },
  {
   "cell_type": "code",
   "execution_count": 4,
   "metadata": {},
   "outputs": [],
   "source": [
    "# Visualization function\n",
    "\n",
    "def plot_loss(history):\n",
    "    plt.plot(history.history['loss'], label='Training Loss')\n",
    "    plt.plot(history.history['val_loss'], label='Validation Loss')\n",
    "    plt.title(\"Training and Validation Loss\")\n",
    "    plt.xlabel(\"Epoch\")\n",
    "    plt.ylabel(\"Loss\")\n",
    "    plt.legend()\n",
    "    plt.tight_layout()\n",
    "    plt.show()\n",
    "\n",
    "def plot_accuracy(history):\n",
    "    plt.plot(history.history['accuracy'], label='Training Accuracy')\n",
    "    plt.plot(history.history['val_accuracy'], label='Validation Accuracy')\n",
    "    plt.title(\"Training and Validation Accuracy\")\n",
    "    plt.xlabel(\"Epoch\")\n",
    "    plt.ylabel(\"Loss\")\n",
    "    plt.legend()\n",
    "    plt.tight_layout()\n",
    "    plt.show()"
   ]
  },
  {
   "cell_type": "code",
   "execution_count": 5,
   "metadata": {},
   "outputs": [],
   "source": [
    "# Data extraction function\n",
    "def extract_data(DATA_PATH):\n",
    "    files = [file for file in os.listdir(DATA_PATH) if os.path.isfile(os.path.join(DATA_PATH, file))]\n",
    "    combined_data = pd.DataFrame()\n",
    "    for file in files:\n",
    "        file_path = os.path.join(DATA_PATH, file)\n",
    "        df = pd.read_csv(file_path, delimiter='\\t')\n",
    "        combined_data = pd.concat([combined_data, df], ignore_index=True)\n",
    "    return combined_data"
   ]
  },
  {
   "cell_type": "code",
   "execution_count": 6,
   "metadata": {},
   "outputs": [],
   "source": [
    "# Modify the path and extract the data\n",
    "data_path = '../data/'\n",
    "data = extract_data(DATA_PATH=data_path)"
   ]
  },
  {
   "cell_type": "code",
   "execution_count": 7,
   "metadata": {},
   "outputs": [
    {
     "data": {
      "text/html": [
       "<div>\n",
       "<style scoped>\n",
       "    .dataframe tbody tr th:only-of-type {\n",
       "        vertical-align: middle;\n",
       "    }\n",
       "\n",
       "    .dataframe tbody tr th {\n",
       "        vertical-align: top;\n",
       "    }\n",
       "\n",
       "    .dataframe thead th {\n",
       "        text-align: right;\n",
       "    }\n",
       "</style>\n",
       "<table border=\"1\" class=\"dataframe\">\n",
       "  <thead>\n",
       "    <tr style=\"text-align: right;\">\n",
       "      <th></th>\n",
       "      <th>headline</th>\n",
       "      <th>content</th>\n",
       "      <th>category</th>\n",
       "      <th>date</th>\n",
       "      <th>link</th>\n",
       "    </tr>\n",
       "  </thead>\n",
       "  <tbody>\n",
       "    <tr>\n",
       "      <th>2360</th>\n",
       "      <td>Erga Iiraan buufata loltootaa Ameerikaa irratt...</td>\n",
       "      <td>Erga Iiraan buufata loltootaa Ameerikaa lama...</td>\n",
       "      <td>idil_addunyaa</td>\n",
       "      <td>2020-01-08</td>\n",
       "      <td>https://www.fanabc.com/afaanoromoo/erga-iiraan...</td>\n",
       "    </tr>\n",
       "    <tr>\n",
       "      <th>2707</th>\n",
       "      <td>Bulchiinsoti Yuunayitid Isteet talaallii Covid...</td>\n",
       "      <td>Bulchiinsoti Yuunayitid Isteet talaallii Cov...</td>\n",
       "      <td>idil_addunyaa</td>\n",
       "      <td>2020-09-03</td>\n",
       "      <td>https://www.fanabc.com/afaanoromoo/bulchiinsot...</td>\n",
       "    </tr>\n",
       "    <tr>\n",
       "      <th>6239</th>\n",
       "      <td>Korporeeshinichi hidhannoo waraanaa gahaa tahe...</td>\n",
       "      <td>Raayyaan Ittisaa Hidhannoo gahaa hidhachuun b...</td>\n",
       "      <td>oduu_biyya_keessaa</td>\n",
       "      <td>2023-08-14</td>\n",
       "      <td>https://www.fanabc.com/afaanoromoo/korporeeshi...</td>\n",
       "    </tr>\n",
       "    <tr>\n",
       "      <th>6432</th>\n",
       "      <td>Yaahiin Innooveeshinii Diijitaalaa Afrikaa 19f...</td>\n",
       "      <td>Yaahiin Innooveeshinii Diijitaalaa Afrikaa 1...</td>\n",
       "      <td>teeknooloojii</td>\n",
       "      <td>2022-05-11</td>\n",
       "      <td>https://www.fanabc.com/afaanoromoo/yaaiin-inno...</td>\n",
       "    </tr>\n",
       "    <tr>\n",
       "      <th>6427</th>\n",
       "      <td>Ityoo Teelekoom Shaashamanneetti mana kitaabaa...</td>\n",
       "      <td>Itiyoo Teelekoom Magaalaa Shaashamannee mana...</td>\n",
       "      <td>teeknooloojii</td>\n",
       "      <td>2022-08-03</td>\n",
       "      <td>https://www.fanabc.com/afaanoromoo/ityoo-teele...</td>\n",
       "    </tr>\n",
       "  </tbody>\n",
       "</table>\n",
       "</div>"
      ],
      "text/plain": [
       "                                               headline  \\\n",
       "2360  Erga Iiraan buufata loltootaa Ameerikaa irratt...   \n",
       "2707  Bulchiinsoti Yuunayitid Isteet talaallii Covid...   \n",
       "6239  Korporeeshinichi hidhannoo waraanaa gahaa tahe...   \n",
       "6432  Yaahiin Innooveeshinii Diijitaalaa Afrikaa 19f...   \n",
       "6427  Ityoo Teelekoom Shaashamanneetti mana kitaabaa...   \n",
       "\n",
       "                                                content            category  \\\n",
       "2360    Erga Iiraan buufata loltootaa Ameerikaa lama...       idil_addunyaa   \n",
       "2707    Bulchiinsoti Yuunayitid Isteet talaallii Cov...       idil_addunyaa   \n",
       "6239   Raayyaan Ittisaa Hidhannoo gahaa hidhachuun b...  oduu_biyya_keessaa   \n",
       "6432    Yaahiin Innooveeshinii Diijitaalaa Afrikaa 1...       teeknooloojii   \n",
       "6427    Itiyoo Teelekoom Magaalaa Shaashamannee mana...       teeknooloojii   \n",
       "\n",
       "            date                                               link  \n",
       "2360  2020-01-08  https://www.fanabc.com/afaanoromoo/erga-iiraan...  \n",
       "2707  2020-09-03  https://www.fanabc.com/afaanoromoo/bulchiinsot...  \n",
       "6239  2023-08-14  https://www.fanabc.com/afaanoromoo/korporeeshi...  \n",
       "6432  2022-05-11  https://www.fanabc.com/afaanoromoo/yaaiin-inno...  \n",
       "6427  2022-08-03  https://www.fanabc.com/afaanoromoo/ityoo-teele...  "
      ]
     },
     "execution_count": 7,
     "metadata": {},
     "output_type": "execute_result"
    }
   ],
   "source": [
    "data = shuffle(data)\n",
    "data = data.dropna()\n",
    "data.head()"
   ]
  },
  {
   "cell_type": "code",
   "execution_count": 8,
   "metadata": {},
   "outputs": [
    {
     "ename": "NameError",
     "evalue": "name 'preprocessing_pipeline' is not defined",
     "output_type": "error",
     "traceback": [
      "\u001b[1;31m---------------------------------------------------------------------------\u001b[0m",
      "\u001b[1;31mNameError\u001b[0m                                 Traceback (most recent call last)",
      "\u001b[1;32mc:\\Users\\Abdulmunim\\Desktop\\Dallol-i Projects\\my_project\\models\\train_model.ipynb Cell 7\u001b[0m line \u001b[0;36m1\n\u001b[1;32m----> <a href='vscode-notebook-cell:/c%3A/Users/Abdulmunim/Desktop/Dallol-i%20Projects/my_project/models/train_model.ipynb#X11sZmlsZQ%3D%3D?line=0'>1</a>\u001b[0m preprocessor \u001b[39m=\u001b[39m preprocessing_pipeline\u001b[39m.\u001b[39mPreprocessingPipeline()\n",
      "\u001b[1;31mNameError\u001b[0m: name 'preprocessing_pipeline' is not defined"
     ]
    }
   ],
   "source": [
    "preprocessor = preprocessing_pipeline.PreprocessingPipeline()"
   ]
  },
  {
   "cell_type": "code",
   "execution_count": 9,
   "metadata": {},
   "outputs": [
    {
     "ename": "NameError",
     "evalue": "name 'preprocessor' is not defined",
     "output_type": "error",
     "traceback": [
      "\u001b[1;31m---------------------------------------------------------------------------\u001b[0m",
      "\u001b[1;31mNameError\u001b[0m                                 Traceback (most recent call last)",
      "\u001b[1;32mc:\\Users\\Abdulmunim\\Desktop\\Dallol-i Projects\\my_project\\models\\train_model.ipynb Cell 8\u001b[0m line \u001b[0;36m1\n\u001b[1;32m----> <a href='vscode-notebook-cell:/c%3A/Users/Abdulmunim/Desktop/Dallol-i%20Projects/my_project/models/train_model.ipynb#X12sZmlsZQ%3D%3D?line=0'>1</a>\u001b[0m data[\u001b[39m'\u001b[39m\u001b[39mpreprocessed_content\u001b[39m\u001b[39m'\u001b[39m] \u001b[39m=\u001b[39m data[\u001b[39m'\u001b[39m\u001b[39mcontent\u001b[39m\u001b[39m'\u001b[39m]\u001b[39m.\u001b[39mapply(preprocessor\u001b[39m.\u001b[39mpreprocess)\n",
      "\u001b[1;31mNameError\u001b[0m: name 'preprocessor' is not defined"
     ]
    }
   ],
   "source": [
    "data['preprocessed_content'] = data['content'].apply(preprocessor.preprocess)"
   ]
  },
  {
   "cell_type": "code",
   "execution_count": null,
   "metadata": {},
   "outputs": [],
   "source": []
  }
 ],
 "metadata": {
  "kernelspec": {
   "display_name": "venv",
   "language": "python",
   "name": "python3"
  },
  "language_info": {
   "codemirror_mode": {
    "name": "ipython",
    "version": 3
   },
   "file_extension": ".py",
   "mimetype": "text/x-python",
   "name": "python",
   "nbconvert_exporter": "python",
   "pygments_lexer": "ipython3",
   "version": "3.11.5"
  }
 },
 "nbformat": 4,
 "nbformat_minor": 2
}
