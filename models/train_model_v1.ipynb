{
 "cells": [
  {
   "cell_type": "code",
   "execution_count": 1,
   "metadata": {},
   "outputs": [
    {
     "name": "stdout",
     "output_type": "stream",
     "text": [
      "WARNING:tensorflow:From c:\\Users\\Abdulmunim\\Desktop\\Dallol-i Projects\\old\\my_project\\venv\\Lib\\site-packages\\keras\\src\\losses.py:2976: The name tf.losses.sparse_softmax_cross_entropy is deprecated. Please use tf.compat.v1.losses.sparse_softmax_cross_entropy instead.\n",
      "\n"
     ]
    }
   ],
   "source": [
    "import os\n",
    "import pandas as pd \n",
    "import numpy as np \n",
    "\n",
    "# Data preprocessors\n",
    "from sklearn.utils import shuffle \n",
    "from sklearn.model_selection import train_test_split\n",
    "from sklearn.preprocessing import LabelEncoder\n",
    "from sklearn.metrics import classification_report, accuracy_score\n",
    "\n",
    "# Deep Learning Model\n",
    "from tensorflow.keras.models import Sequential\n",
    "from tensorflow.keras.layers import Embedding, GlobalAvgPool1D, Dense, Dropout\n",
    "from tensorflow.keras.preprocessing.text import Tokenizer\n",
    "from tensorflow.keras.preprocessing.sequence import pad_sequences\n",
    "\n",
    "# Visualization\n",
    "import matplotlib.pyplot as plt\n",
    "\n",
    "# Dumping\n",
    "import joblib "
   ]
  },
  {
   "cell_type": "code",
   "execution_count": 2,
   "metadata": {},
   "outputs": [],
   "source": [
    "# import local module found in another folder\n",
    "import sys\n",
    "sys.path.append('../')\n",
    "from preprocessing import preprocessing_pipeline\n",
    "preprocessor = preprocessing_pipeline.PreprocessingPipeline()"
   ]
  },
  {
   "cell_type": "code",
   "execution_count": 3,
   "metadata": {},
   "outputs": [],
   "source": [
    "# Visualization function\n",
    "\n",
    "def plot_loss(history):\n",
    "    plt.plot(history.history['loss'], label='Training Loss')\n",
    "    plt.plot(history.history['val_loss'], label='Validation Loss')\n",
    "    plt.title(\"Training and Validation Loss\")\n",
    "    plt.xlabel(\"Epoch\")\n",
    "    plt.ylabel(\"Loss\")\n",
    "    plt.legend()\n",
    "    plt.tight_layout()\n",
    "    plt.show()\n",
    "\n",
    "def plot_accuracy(history):\n",
    "    plt.plot(history.history['accuracy'], label='Training Accuracy')\n",
    "    plt.plot(history.history['val_accuracy'], label='Validation Accuracy')\n",
    "    plt.title(\"Training and Validation Accuracy\")\n",
    "    plt.xlabel(\"Epoch\")\n",
    "    plt.ylabel(\"Loss\")\n",
    "    plt.legend()\n",
    "    plt.tight_layout()\n",
    "    plt.show()"
   ]
  },
  {
   "cell_type": "code",
   "execution_count": 4,
   "metadata": {},
   "outputs": [],
   "source": [
    "# Data extraction function\n",
    "def extract_data(DATA_PATH):\n",
    "    files = [file for file in os.listdir(DATA_PATH) if os.path.isfile(os.path.join(DATA_PATH, file))]\n",
    "    combined_data = pd.DataFrame()\n",
    "    for file in files:\n",
    "        file_path = os.path.join(DATA_PATH, file)\n",
    "        df = pd.read_csv(file_path, delimiter='\\t')\n",
    "        combined_data = pd.concat([combined_data, df], ignore_index=True)\n",
    "    return combined_data"
   ]
  },
  {
   "cell_type": "code",
   "execution_count": 5,
   "metadata": {},
   "outputs": [],
   "source": [
    "# Modify the path and extract the data\n",
    "data_path = '../data/'\n",
    "data = extract_data(DATA_PATH=data_path)"
   ]
  },
  {
   "cell_type": "code",
   "execution_count": 6,
   "metadata": {},
   "outputs": [
    {
     "data": {
      "text/html": [
       "<div>\n",
       "<style scoped>\n",
       "    .dataframe tbody tr th:only-of-type {\n",
       "        vertical-align: middle;\n",
       "    }\n",
       "\n",
       "    .dataframe tbody tr th {\n",
       "        vertical-align: top;\n",
       "    }\n",
       "\n",
       "    .dataframe thead th {\n",
       "        text-align: right;\n",
       "    }\n",
       "</style>\n",
       "<table border=\"1\" class=\"dataframe\">\n",
       "  <thead>\n",
       "    <tr style=\"text-align: right;\">\n",
       "      <th></th>\n",
       "      <th>headline</th>\n",
       "      <th>content</th>\n",
       "      <th>category</th>\n",
       "      <th>date</th>\n",
       "      <th>link</th>\n",
       "    </tr>\n",
       "  </thead>\n",
       "  <tbody>\n",
       "    <tr>\n",
       "      <th>1046</th>\n",
       "      <td>Baalli Sammuu adoochu kuntaalli 32 tohatame</td>\n",
       "      <td>Godina giddugaleessa Goondar aanaa Taachi Ad...</td>\n",
       "      <td>biiznasii</td>\n",
       "      <td>2021-07-04</td>\n",
       "      <td>https://www.fanabc.com/afaanoromoo/baalli-samm...</td>\n",
       "    </tr>\n",
       "    <tr>\n",
       "      <th>4224</th>\n",
       "      <td>Gabreheel Jeesuus gara Arsenaal imale</td>\n",
       "      <td>Arsenaal taphataa sarara fuulduraa Biraazil ...</td>\n",
       "      <td>ispoortii</td>\n",
       "      <td>2022-07-04</td>\n",
       "      <td>https://www.fanabc.com/afaanoromoo/gabreeel-je...</td>\n",
       "    </tr>\n",
       "    <tr>\n",
       "      <th>587</th>\n",
       "      <td>Baankiin Misoomaa Ityoophiyaa kurmaana jalqaba...</td>\n",
       "      <td>- Baankiin Misoomaa Ityoophiyaa kurmaana jalqa...</td>\n",
       "      <td>biiznasii</td>\n",
       "      <td>2022-10-28</td>\n",
       "      <td>https://www.fanabc.com/afaanoromoo/baankiin-mi...</td>\n",
       "    </tr>\n",
       "    <tr>\n",
       "      <th>804</th>\n",
       "      <td>Ityoophiyaatti dhaabbilee Maallaqaa naannoo Ba...</td>\n",
       "      <td>Fandiin Misooma Qonnaa Idila Addunyaa fi Gam...</td>\n",
       "      <td>biiznasii</td>\n",
       "      <td>2021-05-28</td>\n",
       "      <td>https://www.fanabc.com/afaanoromoo/ityoophiyaa...</td>\n",
       "    </tr>\n",
       "    <tr>\n",
       "      <th>3016</th>\n",
       "      <td>Addunyaarratti lakkoofsi namoota covid-19 qaba...</td>\n",
       "      <td>Addunyaarratti lakkoofsi namoota vaayrasii k...</td>\n",
       "      <td>idil_addunyaa</td>\n",
       "      <td>2021-01-04</td>\n",
       "      <td>https://www.fanabc.com/afaanoromoo/addunyaarra...</td>\n",
       "    </tr>\n",
       "  </tbody>\n",
       "</table>\n",
       "</div>"
      ],
      "text/plain": [
       "                                               headline  \\\n",
       "1046        Baalli Sammuu adoochu kuntaalli 32 tohatame   \n",
       "4224              Gabreheel Jeesuus gara Arsenaal imale   \n",
       "587   Baankiin Misoomaa Ityoophiyaa kurmaana jalqaba...   \n",
       "804   Ityoophiyaatti dhaabbilee Maallaqaa naannoo Ba...   \n",
       "3016  Addunyaarratti lakkoofsi namoota covid-19 qaba...   \n",
       "\n",
       "                                                content       category  \\\n",
       "1046    Godina giddugaleessa Goondar aanaa Taachi Ad...      biiznasii   \n",
       "4224    Arsenaal taphataa sarara fuulduraa Biraazil ...      ispoortii   \n",
       "587   - Baankiin Misoomaa Ityoophiyaa kurmaana jalqa...      biiznasii   \n",
       "804     Fandiin Misooma Qonnaa Idila Addunyaa fi Gam...      biiznasii   \n",
       "3016    Addunyaarratti lakkoofsi namoota vaayrasii k...  idil_addunyaa   \n",
       "\n",
       "            date                                               link  \n",
       "1046  2021-07-04  https://www.fanabc.com/afaanoromoo/baalli-samm...  \n",
       "4224  2022-07-04  https://www.fanabc.com/afaanoromoo/gabreeel-je...  \n",
       "587   2022-10-28  https://www.fanabc.com/afaanoromoo/baankiin-mi...  \n",
       "804   2021-05-28  https://www.fanabc.com/afaanoromoo/ityoophiyaa...  \n",
       "3016  2021-01-04  https://www.fanabc.com/afaanoromoo/addunyaarra...  "
      ]
     },
     "execution_count": 6,
     "metadata": {},
     "output_type": "execute_result"
    }
   ],
   "source": [
    "data = shuffle(data)\n",
    "data = data.dropna()\n",
    "data.head()"
   ]
  },
  {
   "cell_type": "code",
   "execution_count": 7,
   "metadata": {},
   "outputs": [],
   "source": [
    "data[\"text\"] = (data[\"headline\"] + data[\"content\"]).apply(preprocessor.preprocess)"
   ]
  },
  {
   "cell_type": "code",
   "execution_count": 8,
   "metadata": {},
   "outputs": [
    {
     "data": {
      "text/html": [
       "<div>\n",
       "<style scoped>\n",
       "    .dataframe tbody tr th:only-of-type {\n",
       "        vertical-align: middle;\n",
       "    }\n",
       "\n",
       "    .dataframe tbody tr th {\n",
       "        vertical-align: top;\n",
       "    }\n",
       "\n",
       "    .dataframe thead th {\n",
       "        text-align: right;\n",
       "    }\n",
       "</style>\n",
       "<table border=\"1\" class=\"dataframe\">\n",
       "  <thead>\n",
       "    <tr style=\"text-align: right;\">\n",
       "      <th></th>\n",
       "      <th>headline</th>\n",
       "      <th>content</th>\n",
       "      <th>category</th>\n",
       "      <th>date</th>\n",
       "      <th>link</th>\n",
       "      <th>text</th>\n",
       "    </tr>\n",
       "  </thead>\n",
       "  <tbody>\n",
       "    <tr>\n",
       "      <th>1046</th>\n",
       "      <td>Baalli Sammuu adoochu kuntaalli 32 tohatame</td>\n",
       "      <td>Godina giddugaleessa Goondar aanaa Taachi Ad...</td>\n",
       "      <td>biiznasii</td>\n",
       "      <td>2021-07-04</td>\n",
       "      <td>https://www.fanabc.com/afaanoromoo/baalli-samm...</td>\n",
       "      <td>baalli sammuu adoochu kuntaalli 32 tohatame go...</td>\n",
       "    </tr>\n",
       "    <tr>\n",
       "      <th>4224</th>\n",
       "      <td>Gabreheel Jeesuus gara Arsenaal imale</td>\n",
       "      <td>Arsenaal taphataa sarara fuulduraa Biraazil ...</td>\n",
       "      <td>ispoortii</td>\n",
       "      <td>2022-07-04</td>\n",
       "      <td>https://www.fanabc.com/afaanoromoo/gabreeel-je...</td>\n",
       "      <td>gabreheel jeesuu gara arsenaal imale arsenaal ...</td>\n",
       "    </tr>\n",
       "    <tr>\n",
       "      <th>587</th>\n",
       "      <td>Baankiin Misoomaa Ityoophiyaa kurmaana jalqaba...</td>\n",
       "      <td>- Baankiin Misoomaa Ityoophiyaa kurmaana jalqa...</td>\n",
       "      <td>biiznasii</td>\n",
       "      <td>2022-10-28</td>\n",
       "      <td>https://www.fanabc.com/afaanoromoo/baankiin-mi...</td>\n",
       "      <td>baankii misoomaa ityoophiyaa kurmaa jalqabaat ...</td>\n",
       "    </tr>\n",
       "    <tr>\n",
       "      <th>804</th>\n",
       "      <td>Ityoophiyaatti dhaabbilee Maallaqaa naannoo Ba...</td>\n",
       "      <td>Fandiin Misooma Qonnaa Idila Addunyaa fi Gam...</td>\n",
       "      <td>biiznasii</td>\n",
       "      <td>2021-05-28</td>\n",
       "      <td>https://www.fanabc.com/afaanoromoo/ityoophiyaa...</td>\n",
       "      <td>ityoophiyaat dhaabbilee maallaqaa baadiyaa olu...</td>\n",
       "    </tr>\n",
       "    <tr>\n",
       "      <th>3016</th>\n",
       "      <td>Addunyaarratti lakkoofsi namoota covid-19 qaba...</td>\n",
       "      <td>Addunyaarratti lakkoofsi namoota vaayrasii k...</td>\n",
       "      <td>idil_addunyaa</td>\n",
       "      <td>2021-01-04</td>\n",
       "      <td>https://www.fanabc.com/afaanoromoo/addunyaarra...</td>\n",
       "      <td>addunyaarrat lakkoof namo covid 19 qabamani mi...</td>\n",
       "    </tr>\n",
       "  </tbody>\n",
       "</table>\n",
       "</div>"
      ],
      "text/plain": [
       "                                               headline  \\\n",
       "1046        Baalli Sammuu adoochu kuntaalli 32 tohatame   \n",
       "4224              Gabreheel Jeesuus gara Arsenaal imale   \n",
       "587   Baankiin Misoomaa Ityoophiyaa kurmaana jalqaba...   \n",
       "804   Ityoophiyaatti dhaabbilee Maallaqaa naannoo Ba...   \n",
       "3016  Addunyaarratti lakkoofsi namoota covid-19 qaba...   \n",
       "\n",
       "                                                content       category  \\\n",
       "1046    Godina giddugaleessa Goondar aanaa Taachi Ad...      biiznasii   \n",
       "4224    Arsenaal taphataa sarara fuulduraa Biraazil ...      ispoortii   \n",
       "587   - Baankiin Misoomaa Ityoophiyaa kurmaana jalqa...      biiznasii   \n",
       "804     Fandiin Misooma Qonnaa Idila Addunyaa fi Gam...      biiznasii   \n",
       "3016    Addunyaarratti lakkoofsi namoota vaayrasii k...  idil_addunyaa   \n",
       "\n",
       "            date                                               link  \\\n",
       "1046  2021-07-04  https://www.fanabc.com/afaanoromoo/baalli-samm...   \n",
       "4224  2022-07-04  https://www.fanabc.com/afaanoromoo/gabreeel-je...   \n",
       "587   2022-10-28  https://www.fanabc.com/afaanoromoo/baankiin-mi...   \n",
       "804   2021-05-28  https://www.fanabc.com/afaanoromoo/ityoophiyaa...   \n",
       "3016  2021-01-04  https://www.fanabc.com/afaanoromoo/addunyaarra...   \n",
       "\n",
       "                                                   text  \n",
       "1046  baalli sammuu adoochu kuntaalli 32 tohatame go...  \n",
       "4224  gabreheel jeesuu gara arsenaal imale arsenaal ...  \n",
       "587   baankii misoomaa ityoophiyaa kurmaa jalqabaat ...  \n",
       "804   ityoophiyaat dhaabbilee maallaqaa baadiyaa olu...  \n",
       "3016  addunyaarrat lakkoof namo covid 19 qabamani mi...  "
      ]
     },
     "execution_count": 8,
     "metadata": {},
     "output_type": "execute_result"
    }
   ],
   "source": [
    "data.head()"
   ]
  },
  {
   "cell_type": "code",
   "execution_count": 9,
   "metadata": {},
   "outputs": [],
   "source": [
    "# Convert the labels to numerical values\n",
    "label_encoder = LabelEncoder()\n",
    "encoded_labels = label_encoder.fit_transform(data['category'])"
   ]
  },
  {
   "cell_type": "code",
   "execution_count": 10,
   "metadata": {},
   "outputs": [],
   "source": [
    "# Split the data int to training, validation and testing sets\n",
    "X_train_temp, X_test, y_train_temp, y_test = train_test_split(data['text'], encoded_labels, test_size=0.1, random_state=0, stratify=encoded_labels)\n",
    "X_train, X_val, y_train, y_val = train_test_split(X_train_temp, y_train_temp, test_size=0.1, random_state=0, stratify=y_train_temp)"
   ]
  },
  {
   "cell_type": "code",
   "execution_count": 11,
   "metadata": {},
   "outputs": [
    {
     "name": "stdout",
     "output_type": "stream",
     "text": [
      "106.91143966547192\n"
     ]
    }
   ],
   "source": [
    "# add data length row\n",
    "data['content_len'] = data['content'].apply(lambda x: len(x.split()))\n",
    "# now let us calcualte the mean value\n",
    "mean = np.mean(data['content_len'])\n",
    "print(mean) # will be used in tokenization"
   ]
  },
  {
   "cell_type": "code",
   "execution_count": 12,
   "metadata": {},
   "outputs": [],
   "source": [
    "# Tokenization\n",
    "max_length = 150\n",
    "tokenizer = Tokenizer()\n",
    "tokenizer.fit_on_texts(X_train)\n",
    "\n",
    "X_train_sequences = tokenizer.texts_to_sequences(X_train)\n",
    "X_val_sequences = tokenizer.texts_to_sequences(X_val)\n",
    "X_test_sequences = tokenizer.texts_to_sequences(X_test)\n",
    "\n",
    "X_train_padded = pad_sequences(X_train_sequences, maxlen=max_length, padding='post', truncating='post')\n",
    "X_val_padded = pad_sequences(X_val_sequences, maxlen=max_length, padding='post', truncating='post')\n",
    "X_test_padded = pad_sequences(X_test_sequences, maxlen=max_length, padding='post', truncating='post')"
   ]
  },
  {
   "cell_type": "code",
   "execution_count": 18,
   "metadata": {},
   "outputs": [
    {
     "name": "stdout",
     "output_type": "stream",
     "text": [
      "6\n",
      "Model: \"sequential_1\"\n",
      "_________________________________________________________________\n",
      " Layer (type)                Output Shape              Param #   \n",
      "=================================================================\n",
      " embedding_1 (Embedding)     (None, 150, 16)           697504    \n",
      "                                                                 \n",
      " global_average_pooling1d_1  (None, 16)                0         \n",
      "  (GlobalAveragePooling1D)                                       \n",
      "                                                                 \n",
      " dense_2 (Dense)             (None, 16)                272       \n",
      "                                                                 \n",
      " dense_3 (Dense)             (None, 6)                 102       \n",
      "                                                                 \n",
      "=================================================================\n",
      "Total params: 697878 (2.66 MB)\n",
      "Trainable params: 697878 (2.66 MB)\n",
      "Non-trainable params: 0 (0.00 Byte)\n",
      "_________________________________________________________________\n"
     ]
    }
   ],
   "source": [
    "# Build and Train Neural Network Model\n",
    "print(len(label_encoder.classes_))\n",
    "model = Sequential(\n",
    "    [\n",
    "        Embedding(input_dim=len(tokenizer.word_index)+1, output_dim=16, input_length=max_length),\n",
    "        GlobalAvgPool1D(),\n",
    "        Dense(16, activation='relu'),\n",
    "        Dense(len(label_encoder.classes_), activation='softmax')\n",
    "    ]\n",
    ")\n",
    "\n",
    "model.compile(loss='sparse_categorical_crossentropy', optimizer='adam', metrics=['accuracy'])\n",
    "model.summary()"
   ]
  },
  {
   "cell_type": "code",
   "execution_count": 19,
   "metadata": {},
   "outputs": [
    {
     "name": "stdout",
     "output_type": "stream",
     "text": [
      "Epoch 1/100\n",
      "170/170 [==============================] - 2s 8ms/step - loss: 1.7054 - accuracy: 0.2877 - val_loss: 1.5746 - val_accuracy: 0.3814\n",
      "Epoch 2/100\n",
      "170/170 [==============================] - 1s 6ms/step - loss: 1.3715 - accuracy: 0.5416 - val_loss: 1.1937 - val_accuracy: 0.6650\n",
      "Epoch 3/100\n",
      "170/170 [==============================] - 1s 6ms/step - loss: 0.9599 - accuracy: 0.7579 - val_loss: 0.8397 - val_accuracy: 0.7794\n",
      "Epoch 4/100\n",
      "170/170 [==============================] - 1s 6ms/step - loss: 0.6374 - accuracy: 0.8383 - val_loss: 0.6128 - val_accuracy: 0.8524\n",
      "Epoch 5/100\n",
      "170/170 [==============================] - 1s 6ms/step - loss: 0.4377 - accuracy: 0.8842 - val_loss: 0.4896 - val_accuracy: 0.8557\n",
      "Epoch 6/100\n",
      "170/170 [==============================] - 1s 6ms/step - loss: 0.3166 - accuracy: 0.9128 - val_loss: 0.4205 - val_accuracy: 0.8640\n",
      "Epoch 7/100\n",
      "170/170 [==============================] - 1s 6ms/step - loss: 0.2392 - accuracy: 0.9399 - val_loss: 0.3820 - val_accuracy: 0.8773\n",
      "Epoch 8/100\n",
      "170/170 [==============================] - 1s 6ms/step - loss: 0.1844 - accuracy: 0.9633 - val_loss: 0.3477 - val_accuracy: 0.8988\n",
      "Epoch 9/100\n",
      "170/170 [==============================] - 1s 6ms/step - loss: 0.1420 - accuracy: 0.9746 - val_loss: 0.3282 - val_accuracy: 0.9022\n",
      "Epoch 10/100\n",
      "170/170 [==============================] - 1s 6ms/step - loss: 0.1099 - accuracy: 0.9825 - val_loss: 0.3163 - val_accuracy: 0.9071\n",
      "Epoch 11/100\n",
      "170/170 [==============================] - 1s 6ms/step - loss: 0.0859 - accuracy: 0.9865 - val_loss: 0.3005 - val_accuracy: 0.9121\n",
      "Epoch 12/100\n",
      "170/170 [==============================] - 1s 6ms/step - loss: 0.0676 - accuracy: 0.9899 - val_loss: 0.2967 - val_accuracy: 0.9138\n",
      "Epoch 13/100\n",
      "170/170 [==============================] - 1s 6ms/step - loss: 0.0537 - accuracy: 0.9928 - val_loss: 0.2893 - val_accuracy: 0.9171\n",
      "Epoch 14/100\n",
      "170/170 [==============================] - 1s 6ms/step - loss: 0.0429 - accuracy: 0.9947 - val_loss: 0.2890 - val_accuracy: 0.9121\n",
      "Epoch 15/100\n",
      "170/170 [==============================] - 1s 6ms/step - loss: 0.0347 - accuracy: 0.9961 - val_loss: 0.2842 - val_accuracy: 0.9154\n",
      "Epoch 16/100\n",
      "170/170 [==============================] - 1s 6ms/step - loss: 0.0285 - accuracy: 0.9970 - val_loss: 0.2864 - val_accuracy: 0.9171\n",
      "Epoch 17/100\n",
      "170/170 [==============================] - 1s 6ms/step - loss: 0.0236 - accuracy: 0.9972 - val_loss: 0.2927 - val_accuracy: 0.9104\n",
      "Epoch 18/100\n",
      "170/170 [==============================] - 1s 6ms/step - loss: 0.0197 - accuracy: 0.9976 - val_loss: 0.2851 - val_accuracy: 0.9154\n",
      "Epoch 19/100\n",
      "170/170 [==============================] - 1s 6ms/step - loss: 0.0168 - accuracy: 0.9980 - val_loss: 0.2851 - val_accuracy: 0.9121\n",
      "Epoch 20/100\n",
      "170/170 [==============================] - 1s 6ms/step - loss: 0.0147 - accuracy: 0.9978 - val_loss: 0.2894 - val_accuracy: 0.9138\n",
      "Epoch 21/100\n",
      "170/170 [==============================] - 1s 6ms/step - loss: 0.0130 - accuracy: 0.9982 - val_loss: 0.2898 - val_accuracy: 0.9104\n",
      "Epoch 22/100\n",
      "170/170 [==============================] - 1s 7ms/step - loss: 0.0117 - accuracy: 0.9980 - val_loss: 0.2930 - val_accuracy: 0.9138\n",
      "Epoch 23/100\n",
      "170/170 [==============================] - 1s 6ms/step - loss: 0.0107 - accuracy: 0.9978 - val_loss: 0.2942 - val_accuracy: 0.9138\n",
      "Epoch 24/100\n",
      "170/170 [==============================] - 1s 6ms/step - loss: 0.0097 - accuracy: 0.9978 - val_loss: 0.3001 - val_accuracy: 0.9088\n",
      "Epoch 25/100\n",
      "170/170 [==============================] - 1s 6ms/step - loss: 0.0090 - accuracy: 0.9980 - val_loss: 0.2980 - val_accuracy: 0.9154\n",
      "Epoch 26/100\n",
      "170/170 [==============================] - 1s 6ms/step - loss: 0.0085 - accuracy: 0.9980 - val_loss: 0.2971 - val_accuracy: 0.9171\n",
      "Epoch 27/100\n",
      "170/170 [==============================] - 1s 6ms/step - loss: 0.0080 - accuracy: 0.9980 - val_loss: 0.3023 - val_accuracy: 0.9088\n",
      "Epoch 28/100\n",
      "170/170 [==============================] - 1s 6ms/step - loss: 0.0075 - accuracy: 0.9980 - val_loss: 0.3041 - val_accuracy: 0.9138\n",
      "Epoch 29/100\n",
      "170/170 [==============================] - 1s 6ms/step - loss: 0.0072 - accuracy: 0.9978 - val_loss: 0.3074 - val_accuracy: 0.9121\n",
      "Epoch 30/100\n",
      "170/170 [==============================] - 1s 6ms/step - loss: 0.0067 - accuracy: 0.9982 - val_loss: 0.3067 - val_accuracy: 0.9154\n",
      "Epoch 31/100\n",
      "170/170 [==============================] - 1s 6ms/step - loss: 0.0066 - accuracy: 0.9982 - val_loss: 0.3085 - val_accuracy: 0.9088\n",
      "Epoch 32/100\n",
      "170/170 [==============================] - 1s 6ms/step - loss: 0.0063 - accuracy: 0.9982 - val_loss: 0.3137 - val_accuracy: 0.9138\n",
      "Epoch 33/100\n",
      "170/170 [==============================] - 1s 6ms/step - loss: 0.0062 - accuracy: 0.9978 - val_loss: 0.3099 - val_accuracy: 0.9055\n",
      "Epoch 34/100\n",
      "170/170 [==============================] - 1s 6ms/step - loss: 0.0059 - accuracy: 0.9978 - val_loss: 0.3185 - val_accuracy: 0.9154\n",
      "Epoch 35/100\n",
      "170/170 [==============================] - 1s 6ms/step - loss: 0.0058 - accuracy: 0.9982 - val_loss: 0.3142 - val_accuracy: 0.9121\n",
      "Epoch 36/100\n",
      "170/170 [==============================] - 1s 6ms/step - loss: 0.0056 - accuracy: 0.9980 - val_loss: 0.3167 - val_accuracy: 0.9138\n",
      "Epoch 37/100\n",
      "170/170 [==============================] - 1s 6ms/step - loss: 0.0055 - accuracy: 0.9980 - val_loss: 0.3189 - val_accuracy: 0.9104\n",
      "Epoch 38/100\n",
      "170/170 [==============================] - 1s 6ms/step - loss: 0.0055 - accuracy: 0.9982 - val_loss: 0.3286 - val_accuracy: 0.9121\n",
      "Epoch 39/100\n",
      "170/170 [==============================] - 1s 6ms/step - loss: 0.0053 - accuracy: 0.9980 - val_loss: 0.3236 - val_accuracy: 0.9071\n",
      "Epoch 40/100\n",
      "170/170 [==============================] - 1s 6ms/step - loss: 0.0053 - accuracy: 0.9980 - val_loss: 0.3222 - val_accuracy: 0.9104\n",
      "Epoch 41/100\n",
      "170/170 [==============================] - 1s 6ms/step - loss: 0.0052 - accuracy: 0.9980 - val_loss: 0.3227 - val_accuracy: 0.9138\n",
      "Epoch 42/100\n",
      "170/170 [==============================] - 1s 7ms/step - loss: 0.0052 - accuracy: 0.9978 - val_loss: 0.3279 - val_accuracy: 0.9104\n",
      "Epoch 43/100\n",
      "170/170 [==============================] - 1s 6ms/step - loss: 0.0050 - accuracy: 0.9980 - val_loss: 0.3318 - val_accuracy: 0.9121\n",
      "Epoch 44/100\n",
      "170/170 [==============================] - 1s 6ms/step - loss: 0.0048 - accuracy: 0.9980 - val_loss: 0.3399 - val_accuracy: 0.9104\n",
      "Epoch 45/100\n",
      "170/170 [==============================] - 1s 6ms/step - loss: 0.0049 - accuracy: 0.9980 - val_loss: 0.3340 - val_accuracy: 0.9121\n",
      "Epoch 46/100\n",
      "170/170 [==============================] - 1s 6ms/step - loss: 0.0049 - accuracy: 0.9982 - val_loss: 0.3320 - val_accuracy: 0.9121\n",
      "Epoch 47/100\n",
      "170/170 [==============================] - 1s 6ms/step - loss: 0.0049 - accuracy: 0.9982 - val_loss: 0.3372 - val_accuracy: 0.9104\n",
      "Epoch 48/100\n",
      "170/170 [==============================] - 1s 6ms/step - loss: 0.0050 - accuracy: 0.9982 - val_loss: 0.3362 - val_accuracy: 0.9104\n",
      "Epoch 49/100\n",
      "170/170 [==============================] - 1s 6ms/step - loss: 0.0048 - accuracy: 0.9980 - val_loss: 0.3416 - val_accuracy: 0.9121\n",
      "Epoch 50/100\n",
      "170/170 [==============================] - 1s 6ms/step - loss: 0.0048 - accuracy: 0.9978 - val_loss: 0.3423 - val_accuracy: 0.9088\n",
      "Epoch 51/100\n",
      "170/170 [==============================] - 1s 6ms/step - loss: 0.0045 - accuracy: 0.9982 - val_loss: 0.3489 - val_accuracy: 0.9171\n",
      "Epoch 52/100\n",
      "170/170 [==============================] - 1s 6ms/step - loss: 0.0048 - accuracy: 0.9980 - val_loss: 0.3451 - val_accuracy: 0.9138\n",
      "Epoch 53/100\n",
      "170/170 [==============================] - 1s 6ms/step - loss: 0.0047 - accuracy: 0.9980 - val_loss: 0.3389 - val_accuracy: 0.9104\n",
      "Epoch 54/100\n",
      "170/170 [==============================] - 1s 6ms/step - loss: 0.0046 - accuracy: 0.9982 - val_loss: 0.3486 - val_accuracy: 0.9088\n",
      "Epoch 55/100\n",
      "170/170 [==============================] - 1s 6ms/step - loss: 0.0044 - accuracy: 0.9982 - val_loss: 0.3437 - val_accuracy: 0.9138\n",
      "Epoch 56/100\n",
      "170/170 [==============================] - 1s 6ms/step - loss: 0.0045 - accuracy: 0.9982 - val_loss: 0.3516 - val_accuracy: 0.9088\n",
      "Epoch 57/100\n",
      "170/170 [==============================] - 1s 6ms/step - loss: 0.0046 - accuracy: 0.9980 - val_loss: 0.3471 - val_accuracy: 0.9154\n",
      "Epoch 58/100\n",
      "170/170 [==============================] - 1s 6ms/step - loss: 0.0043 - accuracy: 0.9982 - val_loss: 0.3545 - val_accuracy: 0.9088\n",
      "Epoch 59/100\n",
      "170/170 [==============================] - 1s 6ms/step - loss: 0.0045 - accuracy: 0.9978 - val_loss: 0.3461 - val_accuracy: 0.9171\n",
      "Epoch 60/100\n",
      "170/170 [==============================] - 1s 6ms/step - loss: 0.0047 - accuracy: 0.9980 - val_loss: 0.3574 - val_accuracy: 0.9138\n",
      "Epoch 61/100\n",
      "170/170 [==============================] - 1s 6ms/step - loss: 0.0043 - accuracy: 0.9982 - val_loss: 0.3580 - val_accuracy: 0.9104\n",
      "Epoch 62/100\n",
      "170/170 [==============================] - 1s 6ms/step - loss: 0.0046 - accuracy: 0.9980 - val_loss: 0.3563 - val_accuracy: 0.9121\n",
      "Epoch 63/100\n",
      "170/170 [==============================] - 1s 6ms/step - loss: 0.0042 - accuracy: 0.9982 - val_loss: 0.3665 - val_accuracy: 0.9154\n",
      "Epoch 64/100\n",
      "170/170 [==============================] - 1s 6ms/step - loss: 0.0046 - accuracy: 0.9978 - val_loss: 0.3699 - val_accuracy: 0.9121\n",
      "Epoch 65/100\n",
      "170/170 [==============================] - 1s 6ms/step - loss: 0.0044 - accuracy: 0.9980 - val_loss: 0.3635 - val_accuracy: 0.9121\n",
      "Epoch 66/100\n",
      "170/170 [==============================] - 1s 6ms/step - loss: 0.0045 - accuracy: 0.9978 - val_loss: 0.3569 - val_accuracy: 0.9171\n",
      "Epoch 67/100\n",
      "170/170 [==============================] - 1s 6ms/step - loss: 0.0043 - accuracy: 0.9978 - val_loss: 0.3661 - val_accuracy: 0.9138\n",
      "Epoch 68/100\n",
      "170/170 [==============================] - 1s 7ms/step - loss: 0.0043 - accuracy: 0.9978 - val_loss: 0.3624 - val_accuracy: 0.9121\n",
      "Epoch 69/100\n",
      "170/170 [==============================] - 1s 6ms/step - loss: 0.0043 - accuracy: 0.9980 - val_loss: 0.3640 - val_accuracy: 0.9138\n",
      "Epoch 70/100\n",
      "170/170 [==============================] - 1s 6ms/step - loss: 0.0044 - accuracy: 0.9980 - val_loss: 0.3696 - val_accuracy: 0.9138\n",
      "Epoch 71/100\n",
      "170/170 [==============================] - 1s 6ms/step - loss: 0.0045 - accuracy: 0.9978 - val_loss: 0.3635 - val_accuracy: 0.9138\n",
      "Epoch 72/100\n",
      "170/170 [==============================] - 1s 6ms/step - loss: 0.0044 - accuracy: 0.9980 - val_loss: 0.3774 - val_accuracy: 0.9171\n",
      "Epoch 73/100\n",
      "170/170 [==============================] - 1s 6ms/step - loss: 0.0043 - accuracy: 0.9980 - val_loss: 0.3694 - val_accuracy: 0.9154\n",
      "Epoch 74/100\n",
      "170/170 [==============================] - 1s 6ms/step - loss: 0.0042 - accuracy: 0.9978 - val_loss: 0.3722 - val_accuracy: 0.9187\n",
      "Epoch 75/100\n",
      "170/170 [==============================] - 1s 6ms/step - loss: 0.0044 - accuracy: 0.9980 - val_loss: 0.3715 - val_accuracy: 0.9154\n",
      "Epoch 76/100\n",
      "170/170 [==============================] - 1s 6ms/step - loss: 0.0041 - accuracy: 0.9982 - val_loss: 0.3807 - val_accuracy: 0.9138\n",
      "Epoch 77/100\n",
      "170/170 [==============================] - 1s 6ms/step - loss: 0.0043 - accuracy: 0.9980 - val_loss: 0.3788 - val_accuracy: 0.9138\n",
      "Epoch 78/100\n",
      "170/170 [==============================] - 1s 6ms/step - loss: 0.0045 - accuracy: 0.9978 - val_loss: 0.3763 - val_accuracy: 0.9187\n",
      "Epoch 79/100\n",
      "170/170 [==============================] - 1s 6ms/step - loss: 0.0043 - accuracy: 0.9978 - val_loss: 0.3818 - val_accuracy: 0.9138\n",
      "Epoch 80/100\n",
      "170/170 [==============================] - 1s 6ms/step - loss: 0.0045 - accuracy: 0.9982 - val_loss: 0.3934 - val_accuracy: 0.9154\n",
      "Epoch 81/100\n",
      "170/170 [==============================] - 1s 6ms/step - loss: 0.0043 - accuracy: 0.9980 - val_loss: 0.3863 - val_accuracy: 0.9138\n",
      "Epoch 82/100\n",
      "170/170 [==============================] - 1s 7ms/step - loss: 0.0043 - accuracy: 0.9978 - val_loss: 0.3861 - val_accuracy: 0.9221\n",
      "Epoch 83/100\n",
      "170/170 [==============================] - 1s 6ms/step - loss: 0.0043 - accuracy: 0.9980 - val_loss: 0.3888 - val_accuracy: 0.9171\n",
      "Epoch 84/100\n",
      "170/170 [==============================] - 1s 6ms/step - loss: 0.0043 - accuracy: 0.9980 - val_loss: 0.3923 - val_accuracy: 0.9171\n",
      "Epoch 85/100\n",
      "170/170 [==============================] - 1s 6ms/step - loss: 0.0042 - accuracy: 0.9978 - val_loss: 0.3929 - val_accuracy: 0.9138\n",
      "Epoch 86/100\n",
      "170/170 [==============================] - 1s 6ms/step - loss: 0.0042 - accuracy: 0.9978 - val_loss: 0.3960 - val_accuracy: 0.9121\n",
      "Epoch 87/100\n",
      "170/170 [==============================] - 1s 6ms/step - loss: 0.0042 - accuracy: 0.9980 - val_loss: 0.3926 - val_accuracy: 0.9121\n",
      "Epoch 88/100\n",
      "170/170 [==============================] - 1s 6ms/step - loss: 0.0043 - accuracy: 0.9978 - val_loss: 0.4077 - val_accuracy: 0.9121\n",
      "Epoch 89/100\n",
      "170/170 [==============================] - 1s 6ms/step - loss: 0.0042 - accuracy: 0.9980 - val_loss: 0.3946 - val_accuracy: 0.9237\n",
      "Epoch 90/100\n",
      "170/170 [==============================] - 1s 6ms/step - loss: 0.0043 - accuracy: 0.9980 - val_loss: 0.4118 - val_accuracy: 0.9154\n",
      "Epoch 91/100\n",
      "170/170 [==============================] - 1s 7ms/step - loss: 0.0041 - accuracy: 0.9982 - val_loss: 0.4016 - val_accuracy: 0.9187\n",
      "Epoch 92/100\n",
      "170/170 [==============================] - 1s 7ms/step - loss: 0.0042 - accuracy: 0.9982 - val_loss: 0.4036 - val_accuracy: 0.9204\n",
      "Epoch 93/100\n",
      "170/170 [==============================] - 1s 7ms/step - loss: 0.0043 - accuracy: 0.9980 - val_loss: 0.4027 - val_accuracy: 0.9154\n",
      "Epoch 94/100\n",
      "170/170 [==============================] - 1s 6ms/step - loss: 0.0041 - accuracy: 0.9980 - val_loss: 0.4108 - val_accuracy: 0.9171\n",
      "Epoch 95/100\n",
      "170/170 [==============================] - 1s 7ms/step - loss: 0.0042 - accuracy: 0.9980 - val_loss: 0.4122 - val_accuracy: 0.9138\n",
      "Epoch 96/100\n",
      "170/170 [==============================] - 1s 7ms/step - loss: 0.0044 - accuracy: 0.9978 - val_loss: 0.4140 - val_accuracy: 0.9204\n",
      "Epoch 97/100\n",
      "170/170 [==============================] - 1s 7ms/step - loss: 0.0042 - accuracy: 0.9980 - val_loss: 0.4141 - val_accuracy: 0.9104\n",
      "Epoch 98/100\n",
      "170/170 [==============================] - 1s 7ms/step - loss: 0.0041 - accuracy: 0.9978 - val_loss: 0.4159 - val_accuracy: 0.9121\n",
      "Epoch 99/100\n",
      "170/170 [==============================] - 1s 7ms/step - loss: 0.0044 - accuracy: 0.9980 - val_loss: 0.4166 - val_accuracy: 0.9187\n",
      "Epoch 100/100\n",
      "170/170 [==============================] - 1s 7ms/step - loss: 0.0042 - accuracy: 0.9978 - val_loss: 0.4244 - val_accuracy: 0.9154\n"
     ]
    }
   ],
   "source": [
    "history = model.fit(X_train_padded, y_train, epochs=100, validation_data=(X_val_padded, y_val))"
   ]
  },
  {
   "cell_type": "code",
   "execution_count": 20,
   "metadata": {},
   "outputs": [
    {
     "data": {
      "image/png": "[encoded data removed]",
      "text/plain": [
       "<Figure size 640x480 with 1 Axes>"
      ]
     },
     "metadata": {},
     "output_type": "display_data"
    },
    {
     "data": {
      "image/png": "[encoded data removed]",
      "text/plain": [
       "<Figure size 640x480 with 1 Axes>"
      ]
     },
     "metadata": {},
     "output_type": "display_data"
    }
   ],
   "source": [
    "# Evaluate Neural Network Model\n",
    "plot_accuracy(history)\n",
    "plot_loss(history)"
   ]
  },
  {
   "cell_type": "code",
   "execution_count": 21,
   "metadata": {},
   "outputs": [
    {
     "name": "stdout",
     "output_type": "stream",
     "text": [
      "21/21 [==============================] - 0s 2ms/step\n",
      "              precision    recall  f1-score   support\n",
      "\n",
      "           0       0.91      0.88      0.90       113\n",
      "           1       0.81      0.88      0.84        81\n",
      "           2       0.91      0.94      0.92       170\n",
      "           3       0.98      0.98      0.98       117\n",
      "           4       0.89      0.89      0.89       150\n",
      "           5       0.93      0.67      0.78        39\n",
      "\n",
      "    accuracy                           0.90       670\n",
      "   macro avg       0.90      0.87      0.89       670\n",
      "weighted avg       0.91      0.90      0.90       670\n",
      "\n"
     ]
    }
   ],
   "source": [
    "y_pred = model.predict(X_test_padded)\n",
    "y_pred_classes = np.argmax(y_pred, axis=1)\n",
    "\n",
    "\n",
    "# Print classification report\n",
    "print(classification_report(y_test, y_pred_classes))"
   ]
  },
  {
   "cell_type": "code",
   "execution_count": 22,
   "metadata": {},
   "outputs": [
    {
     "data": {
      "text/plain": [
       "array(['biiznasii', 'fayyaa', 'idil_addunyaa', 'ispoortii',\n",
       "       'oduu_biyya_keessaa', 'teeknooloojii'], dtype=object)"
      ]
     },
     "execution_count": 22,
     "metadata": {},
     "output_type": "execute_result"
    }
   ],
   "source": [
    "label_encoder.classes_"
   ]
  },
  {
   "cell_type": "code",
   "execution_count": 23,
   "metadata": {},
   "outputs": [
    {
     "data": {
      "text/plain": [
       "0.9044776119402985"
      ]
     },
     "execution_count": 23,
     "metadata": {},
     "output_type": "execute_result"
    }
   ],
   "source": [
    "accuracy_score(y_test, y_pred_classes)"
   ]
  },
  {
   "cell_type": "code",
   "execution_count": null,
   "metadata": {},
   "outputs": [],
   "source": [
    "# Technology has the least F1-Score (0.78), idil_addunyaa has the highest F-Score (0.98)\n",
    "# Possible reasons is Class Embalance"
   ]
  },
  {
   "cell_type": "code",
   "execution_count": null,
   "metadata": {},
   "outputs": [],
   "source": []
  }
 ],
 "metadata": {
  "kernelspec": {
   "display_name": "venv",
   "language": "python",
   "name": "python3"
  },
  "language_info": {
   "codemirror_mode": {
    "name": "ipython",
    "version": 3
   },
   "file_extension": ".py",
   "mimetype": "text/x-python",
   "name": "python",
   "nbconvert_exporter": "python",
   "pygments_lexer": "ipython3",
   "version": "3.11.5"
  }
 },
 "nbformat": 4,
 "nbformat_minor": 2
}
