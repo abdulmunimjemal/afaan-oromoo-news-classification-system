{
 "cells": [
  {
   "cell_type": "code",
   "execution_count": 1,
   "metadata": {},
   "outputs": [
    {
     "name": "stdout",
     "output_type": "stream",
     "text": [
      "WARNING:tensorflow:From c:\\Users\\Abdulmunim\\Desktop\\Dallol-i Projects\\old\\my_project\\venv\\Lib\\site-packages\\keras\\src\\losses.py:2976: The name tf.losses.sparse_softmax_cross_entropy is deprecated. Please use tf.compat.v1.losses.sparse_softmax_cross_entropy instead.\n",
      "\n"
     ]
    }
   ],
   "source": [
    "import os\n",
    "import pandas as pd \n",
    "import numpy as np \n",
    "\n",
    "# Data preprocessors\n",
    "from sklearn.utils import shuffle \n",
    "from sklearn.model_selection import train_test_split\n",
    "from sklearn.preprocessing import LabelEncoder\n",
    "from sklearn.metrics import classification_report, accuracy_score\n",
    "\n",
    "# Deep Learning Model\n",
    "from tensorflow.keras.models import Sequential\n",
    "from tensorflow.keras.layers import Embedding, GlobalAvgPool1D, Dense, Dropout\n",
    "from tensorflow.keras.preprocessing.text import Tokenizer\n",
    "from tensorflow.keras.preprocessing.sequence import pad_sequences\n",
    "\n",
    "# Visualization\n",
    "import matplotlib.pyplot as plt\n",
    "\n",
    "# Dumping\n",
    "import joblib "
   ]
  },
  {
   "cell_type": "code",
   "execution_count": 2,
   "metadata": {},
   "outputs": [],
   "source": [
    "# import local module found in another folder\n",
    "import sys\n",
    "sys.path.append('../')\n",
    "from preprocessing import preprocessing_pipeline"
   ]
  },
  {
   "cell_type": "code",
   "execution_count": 3,
   "metadata": {},
   "outputs": [],
   "source": [
    "# Visualization function\n",
    "\n",
    "def plot_loss(history):\n",
    "    plt.plot(history.history['loss'], label='Training Loss')\n",
    "    plt.plot(history.history['val_loss'], label='Validation Loss')\n",
    "    plt.title(\"Training and Validation Loss\")\n",
    "    plt.xlabel(\"Epoch\")\n",
    "    plt.ylabel(\"Loss\")\n",
    "    plt.legend()\n",
    "    plt.tight_layout()\n",
    "    plt.show()\n",
    "\n",
    "def plot_accuracy(history):\n",
    "    plt.plot(history.history['accuracy'], label='Training Accuracy')\n",
    "    plt.plot(history.history['val_accuracy'], label='Validation Accuracy')\n",
    "    plt.title(\"Training and Validation Accuracy\")\n",
    "    plt.xlabel(\"Epoch\")\n",
    "    plt.ylabel(\"Loss\")\n",
    "    plt.legend()\n",
    "    plt.tight_layout()\n",
    "    plt.show()"
   ]
  },
  {
   "cell_type": "code",
   "execution_count": 4,
   "metadata": {},
   "outputs": [],
   "source": [
    "# Data extraction function\n",
    "def extract_data(DATA_PATH):\n",
    "    files = [file for file in os.listdir(DATA_PATH) if os.path.isfile(os.path.join(DATA_PATH, file))]\n",
    "    combined_data = pd.DataFrame()\n",
    "    for file in files:\n",
    "        file_path = os.path.join(DATA_PATH, file)\n",
    "        df = pd.read_csv(file_path, delimiter='\\t')\n",
    "        combined_data = pd.concat([combined_data, df], ignore_index=True)\n",
    "    return combined_data"
   ]
  },
  {
   "cell_type": "code",
   "execution_count": null,
   "metadata": {},
   "outputs": [],
   "source": [
    "# Data extraction function\n",
    "def extract_data(DATA_PATH):\n",
    "    files = [file for file in os.listdir(DATA_PATH) if os.path.isfile(os.path.join(DATA_PATH, file))]\n",
    "    combined_data = pd.DataFrame()\n",
    "    for file in files:\n",
    "        file_path = os.path.join(DATA_PATH, file)\n",
    "        df = pd.read_csv(file_path, delimiter='\\t')\n",
    "        combined_data = pd.concat([combined_data, df], ignore_index=True)\n",
    "    return combined_data"
   ]
  },
  {
   "cell_type": "code",
   "execution_count": 11,
   "metadata": {},
   "outputs": [],
   "source": [
    "# Modify the path and extract the data\n",
    "data_path = '../data/'\n",
    "data = extract_data(DATA_PATH=data_path)"
   ]
  },
  {
   "cell_type": "code",
   "execution_count": 12,
   "metadata": {},
   "outputs": [
    {
     "data": {
      "text/html": [
       "<div>\n",
       "<style scoped>\n",
       "    .dataframe tbody tr th:only-of-type {\n",
       "        vertical-align: middle;\n",
       "    }\n",
       "\n",
       "    .dataframe tbody tr th {\n",
       "        vertical-align: top;\n",
       "    }\n",
       "\n",
       "    .dataframe thead th {\n",
       "        text-align: right;\n",
       "    }\n",
       "</style>\n",
       "<table border=\"1\" class=\"dataframe\">\n",
       "  <thead>\n",
       "    <tr style=\"text-align: right;\">\n",
       "      <th></th>\n",
       "      <th>headline</th>\n",
       "      <th>content</th>\n",
       "      <th>category</th>\n",
       "      <th>date</th>\n",
       "      <th>link</th>\n",
       "    </tr>\n",
       "  </thead>\n",
       "  <tbody>\n",
       "    <tr>\n",
       "      <th>2571</th>\n",
       "      <td>Balaa Ibiddaa Ameerikaa bulchiinsa Hawaayitti ...</td>\n",
       "      <td>Balaa Ibiddaa Ameerikaa bulchiinsa Hawaayitt...</td>\n",
       "      <td>idil_addunyaa</td>\n",
       "      <td>2023-08-12</td>\n",
       "      <td>https://www.fanabc.com/afaanoromoo/balaa-ibidd...</td>\n",
       "    </tr>\n",
       "    <tr>\n",
       "      <th>531</th>\n",
       "      <td>Diinagdee hunda galeessaan fayyadamummaa ummat...</td>\n",
       "      <td>Diinagdee hunda galeessaan fayyadamummaa umm...</td>\n",
       "      <td>biiznasii</td>\n",
       "      <td>2023-10-09</td>\n",
       "      <td>https://www.fanabc.com/afaanoromoo/diinagdee-h...</td>\n",
       "    </tr>\n",
       "    <tr>\n",
       "      <th>1839</th>\n",
       "      <td>Jilli Dooktar Liyaa Taaddasaatin durfamu hospi...</td>\n",
       "      <td>- Jilli Ministira Ministeera Fayyaa Dooktar Li...</td>\n",
       "      <td>fayyaa</td>\n",
       "      <td>2021-10-21</td>\n",
       "      <td>https://www.fanabc.com/afaanoromoo/jilli-dookt...</td>\n",
       "    </tr>\n",
       "    <tr>\n",
       "      <th>236</th>\n",
       "      <td>Dhaabbileen Ityoophiyaa buhaa kalloo fi uffata...</td>\n",
       "      <td>Dhaabbileen Ityoophiyaa buhaa kalloo fi uffa...</td>\n",
       "      <td>biiznasii</td>\n",
       "      <td>2021-01-29</td>\n",
       "      <td>https://www.fanabc.com/afaanoromoo/dhaabbileen...</td>\n",
       "    </tr>\n",
       "    <tr>\n",
       "      <th>4747</th>\n",
       "      <td>Roonaaldoon Maanchisteer Yuunaayitiiditti maka...</td>\n",
       "      <td>Kiristiyaanoo Roonaaldoon Maanchisteer Yuuna...</td>\n",
       "      <td>ispoortii</td>\n",
       "      <td>2021-08-27</td>\n",
       "      <td>https://www.fanabc.com/afaanoromoo/roonaaldoon...</td>\n",
       "    </tr>\n",
       "  </tbody>\n",
       "</table>\n",
       "</div>"
      ],
      "text/plain": [
       "                                               headline  \\\n",
       "2571  Balaa Ibiddaa Ameerikaa bulchiinsa Hawaayitti ...   \n",
       "531   Diinagdee hunda galeessaan fayyadamummaa ummat...   \n",
       "1839  Jilli Dooktar Liyaa Taaddasaatin durfamu hospi...   \n",
       "236   Dhaabbileen Ityoophiyaa buhaa kalloo fi uffata...   \n",
       "4747  Roonaaldoon Maanchisteer Yuunaayitiiditti maka...   \n",
       "\n",
       "                                                content       category  \\\n",
       "2571    Balaa Ibiddaa Ameerikaa bulchiinsa Hawaayitt...  idil_addunyaa   \n",
       "531     Diinagdee hunda galeessaan fayyadamummaa umm...      biiznasii   \n",
       "1839  - Jilli Ministira Ministeera Fayyaa Dooktar Li...         fayyaa   \n",
       "236     Dhaabbileen Ityoophiyaa buhaa kalloo fi uffa...      biiznasii   \n",
       "4747    Kiristiyaanoo Roonaaldoon Maanchisteer Yuuna...      ispoortii   \n",
       "\n",
       "            date                                               link  \n",
       "2571  2023-08-12  https://www.fanabc.com/afaanoromoo/balaa-ibidd...  \n",
       "531   2023-10-09  https://www.fanabc.com/afaanoromoo/diinagdee-h...  \n",
       "1839  2021-10-21  https://www.fanabc.com/afaanoromoo/jilli-dookt...  \n",
       "236   2021-01-29  https://www.fanabc.com/afaanoromoo/dhaabbileen...  \n",
       "4747  2021-08-27  https://www.fanabc.com/afaanoromoo/roonaaldoon...  "
      ]
     },
     "execution_count": 12,
     "metadata": {},
     "output_type": "execute_result"
    }
   ],
   "source": [
    "data = shuffle(data)\n",
    "data = data.dropna()\n",
    "data.head()"
   ]
  },
  {
   "cell_type": "code",
   "execution_count": 13,
   "metadata": {},
   "outputs": [],
   "source": [
    "data[\"text\"] = (data[\"headline\"] + data[\"content\"]).apply(preprocessor.preprocess)"
   ]
  },
  {
   "cell_type": "code",
   "execution_count": 14,
   "metadata": {},
   "outputs": [
    {
     "data": {
      "text/html": [
       "<div>\n",
       "<style scoped>\n",
       "    .dataframe tbody tr th:only-of-type {\n",
       "        vertical-align: middle;\n",
       "    }\n",
       "\n",
       "    .dataframe tbody tr th {\n",
       "        vertical-align: top;\n",
       "    }\n",
       "\n",
       "    .dataframe thead th {\n",
       "        text-align: right;\n",
       "    }\n",
       "</style>\n",
       "<table border=\"1\" class=\"dataframe\">\n",
       "  <thead>\n",
       "    <tr style=\"text-align: right;\">\n",
       "      <th></th>\n",
       "      <th>headline</th>\n",
       "      <th>content</th>\n",
       "      <th>category</th>\n",
       "      <th>date</th>\n",
       "      <th>link</th>\n",
       "      <th>text</th>\n",
       "    </tr>\n",
       "  </thead>\n",
       "  <tbody>\n",
       "    <tr>\n",
       "      <th>2571</th>\n",
       "      <td>Balaa Ibiddaa Ameerikaa bulchiinsa Hawaayitti ...</td>\n",
       "      <td>Balaa Ibiddaa Ameerikaa bulchiinsa Hawaayitt...</td>\n",
       "      <td>idil_addunyaa</td>\n",
       "      <td>2023-08-12</td>\n",
       "      <td>https://www.fanabc.com/afaanoromoo/balaa-ibidd...</td>\n",
       "      <td>balaa ibiddaa ameerikaa bulchiin hawaayit muud...</td>\n",
       "    </tr>\n",
       "    <tr>\n",
       "      <th>531</th>\n",
       "      <td>Diinagdee hunda galeessaan fayyadamummaa ummat...</td>\n",
       "      <td>Diinagdee hunda galeessaan fayyadamummaa umm...</td>\n",
       "      <td>biiznasii</td>\n",
       "      <td>2023-10-09</td>\n",
       "      <td>https://www.fanabc.com/afaanoromoo/diinagdee-h...</td>\n",
       "      <td>diinagdee hunda galeessa fayyadamummaa ummataa...</td>\n",
       "    </tr>\n",
       "    <tr>\n",
       "      <th>1839</th>\n",
       "      <td>Jilli Dooktar Liyaa Taaddasaatin durfamu hospi...</td>\n",
       "      <td>- Jilli Ministira Ministeera Fayyaa Dooktar Li...</td>\n",
       "      <td>fayyaa</td>\n",
       "      <td>2021-10-21</td>\n",
       "      <td>https://www.fanabc.com/afaanoromoo/jilli-dookt...</td>\n",
       "      <td>jilli dooktar liyaa taaddasaati durfamu hospit...</td>\n",
       "    </tr>\n",
       "    <tr>\n",
       "      <th>236</th>\n",
       "      <td>Dhaabbileen Ityoophiyaa buhaa kalloo fi uffata...</td>\n",
       "      <td>Dhaabbileen Ityoophiyaa buhaa kalloo fi uffa...</td>\n",
       "      <td>biiznasii</td>\n",
       "      <td>2021-01-29</td>\n",
       "      <td>https://www.fanabc.com/afaanoromoo/dhaabbileen...</td>\n",
       "      <td>dhaabbil ityoophiyaa buhaa kalloo uffataarrat ...</td>\n",
       "    </tr>\n",
       "    <tr>\n",
       "      <th>4747</th>\n",
       "      <td>Roonaaldoon Maanchisteer Yuunaayitiiditti maka...</td>\n",
       "      <td>Kiristiyaanoo Roonaaldoon Maanchisteer Yuuna...</td>\n",
       "      <td>ispoortii</td>\n",
       "      <td>2021-08-27</td>\n",
       "      <td>https://www.fanabc.com/afaanoromoo/roonaaldoon...</td>\n",
       "      <td>roonaaldoo maanchisteer yuunaayitiidit makamuu...</td>\n",
       "    </tr>\n",
       "  </tbody>\n",
       "</table>\n",
       "</div>"
      ],
      "text/plain": [
       "                                               headline  \\\n",
       "2571  Balaa Ibiddaa Ameerikaa bulchiinsa Hawaayitti ...   \n",
       "531   Diinagdee hunda galeessaan fayyadamummaa ummat...   \n",
       "1839  Jilli Dooktar Liyaa Taaddasaatin durfamu hospi...   \n",
       "236   Dhaabbileen Ityoophiyaa buhaa kalloo fi uffata...   \n",
       "4747  Roonaaldoon Maanchisteer Yuunaayitiiditti maka...   \n",
       "\n",
       "                                                content       category  \\\n",
       "2571    Balaa Ibiddaa Ameerikaa bulchiinsa Hawaayitt...  idil_addunyaa   \n",
       "531     Diinagdee hunda galeessaan fayyadamummaa umm...      biiznasii   \n",
       "1839  - Jilli Ministira Ministeera Fayyaa Dooktar Li...         fayyaa   \n",
       "236     Dhaabbileen Ityoophiyaa buhaa kalloo fi uffa...      biiznasii   \n",
       "4747    Kiristiyaanoo Roonaaldoon Maanchisteer Yuuna...      ispoortii   \n",
       "\n",
       "            date                                               link  \\\n",
       "2571  2023-08-12  https://www.fanabc.com/afaanoromoo/balaa-ibidd...   \n",
       "531   2023-10-09  https://www.fanabc.com/afaanoromoo/diinagdee-h...   \n",
       "1839  2021-10-21  https://www.fanabc.com/afaanoromoo/jilli-dookt...   \n",
       "236   2021-01-29  https://www.fanabc.com/afaanoromoo/dhaabbileen...   \n",
       "4747  2021-08-27  https://www.fanabc.com/afaanoromoo/roonaaldoon...   \n",
       "\n",
       "                                                   text  \n",
       "2571  balaa ibiddaa ameerikaa bulchiin hawaayit muud...  \n",
       "531   diinagdee hunda galeessa fayyadamummaa ummataa...  \n",
       "1839  jilli dooktar liyaa taaddasaati durfamu hospit...  \n",
       "236   dhaabbil ityoophiyaa buhaa kalloo uffataarrat ...  \n",
       "4747  roonaaldoo maanchisteer yuunaayitiidit makamuu...  "
      ]
     },
     "execution_count": 14,
     "metadata": {},
     "output_type": "execute_result"
    }
   ],
   "source": [
    "data.head()"
   ]
  },
  {
   "cell_type": "code",
   "execution_count": 15,
   "metadata": {},
   "outputs": [],
   "source": [
    "# Convert the labels to numerical values\n",
    "label_encoder = LabelEncoder()\n",
    "encoded_labels = label_encoder.fit_transform(data['category'])"
   ]
  },
  {
   "cell_type": "code",
   "execution_count": 16,
   "metadata": {},
   "outputs": [],
   "source": [
    "# Split the data int to training, validation and testing sets\n",
    "X_train_temp, X_test, y_train_temp, y_test = train_test_split(data['text'], encoded_labels, test_size=0.2, random_state=0)\n",
    "X_train, X_val, y_train, y_val = train_test_split(X_train_temp, y_train_temp, test_size=0.2, random_state=0)"
   ]
  },
  {
   "cell_type": "code",
   "execution_count": 17,
   "metadata": {},
   "outputs": [
    {
     "name": "stdout",
     "output_type": "stream",
     "text": [
      "106.91143966547192\n"
     ]
    }
   ],
   "source": [
    "# add data length row\n",
    "data['content_len'] = data['content'].apply(lambda x: len(x.split()))\n",
    "# now let us calcualte the mean value\n",
    "mean = np.mean(data['content_len'])\n",
    "print(mean) # will be used in tokenization"
   ]
  },
  {
   "cell_type": "code",
   "execution_count": 18,
   "metadata": {},
   "outputs": [],
   "source": [
    "# Tokenization\n",
    "max_length = 150\n",
    "tokenizer = Tokenizer()\n",
    "tokenizer.fit_on_texts(X_train)\n",
    "\n",
    "X_train_sequences = tokenizer.texts_to_sequences(X_train)\n",
    "X_val_sequences = tokenizer.texts_to_sequences(X_val)\n",
    "X_test_sequences = tokenizer.texts_to_sequences(X_test)\n",
    "\n",
    "X_train_padded = pad_sequences(X_train_sequences, maxlen=max_length, padding='post', truncating='post')\n",
    "X_val_padded = pad_sequences(X_val_sequences, maxlen=max_length, padding='post', truncating='post')\n",
    "X_test_padded = pad_sequences(X_test_sequences, maxlen=max_length, padding='post', truncating='post')"
   ]
  },
  {
   "cell_type": "code",
   "execution_count": 19,
   "metadata": {},
   "outputs": [
    {
     "name": "stdout",
     "output_type": "stream",
     "text": [
      "6\n",
      "WARNING:tensorflow:From c:\\Users\\Abdulmunim\\Desktop\\Dallol-i Projects\\old\\my_project\\venv\\Lib\\site-packages\\keras\\src\\backend.py:873: The name tf.get_default_graph is deprecated. Please use tf.compat.v1.get_default_graph instead.\n",
      "\n",
      "WARNING:tensorflow:From c:\\Users\\Abdulmunim\\Desktop\\Dallol-i Projects\\old\\my_project\\venv\\Lib\\site-packages\\keras\\src\\optimizers\\__init__.py:309: The name tf.train.Optimizer is deprecated. Please use tf.compat.v1.train.Optimizer instead.\n",
      "\n",
      "Model: \"sequential\"\n",
      "_________________________________________________________________\n",
      " Layer (type)                Output Shape              Param #   \n",
      "=================================================================\n",
      " embedding (Embedding)       (None, 150, 16)           610512    \n",
      "                                                                 \n",
      " global_average_pooling1d (  (None, 16)                0         \n",
      " GlobalAveragePooling1D)                                         \n",
      "                                                                 \n",
      " dense (Dense)               (None, 16)                272       \n",
      "                                                                 \n",
      " dense_1 (Dense)             (None, 6)                 102       \n",
      "                                                                 \n",
      "=================================================================\n",
      "Total params: 610886 (2.33 MB)\n",
      "Trainable params: 610886 (2.33 MB)\n",
      "Non-trainable params: 0 (0.00 Byte)\n",
      "_________________________________________________________________\n"
     ]
    }
   ],
   "source": [
    "# Build and Train Neural Network Model\n",
    "print(len(label_encoder.classes_))\n",
    "model = Sequential(\n",
    "    [\n",
    "        Embedding(input_dim=len(tokenizer.word_index)+1, output_dim=16, input_length=max_length),\n",
    "        GlobalAvgPool1D(),\n",
    "        Dense(16, activation='relu'),\n",
    "        Dense(len(label_encoder.classes_), activation='softmax')\n",
    "    ]\n",
    ")\n",
    "\n",
    "model.compile(loss='sparse_categorical_crossentropy', optimizer='adam', metrics=['accuracy'])\n",
    "model.summary()"
   ]
  },
  {
   "cell_type": "code",
   "execution_count": 20,
   "metadata": {},
   "outputs": [
    {
     "name": "stdout",
     "output_type": "stream",
     "text": [
      "Epoch 1/100\n",
      "WARNING:tensorflow:From c:\\Users\\Abdulmunim\\Desktop\\Dallol-i Projects\\old\\my_project\\venv\\Lib\\site-packages\\keras\\src\\utils\\tf_utils.py:492: The name tf.ragged.RaggedTensorValue is deprecated. Please use tf.compat.v1.ragged.RaggedTensorValue instead.\n",
      "\n",
      "WARNING:tensorflow:From c:\\Users\\Abdulmunim\\Desktop\\Dallol-i Projects\\old\\my_project\\venv\\Lib\\site-packages\\keras\\src\\engine\\base_layer_utils.py:384: The name tf.executing_eagerly_outside_functions is deprecated. Please use tf.compat.v1.executing_eagerly_outside_functions instead.\n",
      "\n",
      "134/134 [==============================] - 3s 9ms/step - loss: 1.7334 - accuracy: 0.2647 - val_loss: 1.6500 - val_accuracy: 0.3470\n",
      "Epoch 2/100\n",
      "134/134 [==============================] - 1s 7ms/step - loss: 1.5256 - accuracy: 0.4692 - val_loss: 1.3558 - val_accuracy: 0.6073\n",
      "Epoch 3/100\n",
      "134/134 [==============================] - 1s 7ms/step - loss: 1.1717 - accuracy: 0.6996 - val_loss: 1.0211 - val_accuracy: 0.7239\n",
      "Epoch 4/100\n",
      "134/134 [==============================] - 1s 7ms/step - loss: 0.8664 - accuracy: 0.7876 - val_loss: 0.7977 - val_accuracy: 0.8004\n",
      "Epoch 5/100\n",
      "134/134 [==============================] - 1s 7ms/step - loss: 0.6484 - accuracy: 0.8583 - val_loss: 0.6351 - val_accuracy: 0.8442\n",
      "Epoch 6/100\n",
      "134/134 [==============================] - 1s 7ms/step - loss: 0.4823 - accuracy: 0.8931 - val_loss: 0.5240 - val_accuracy: 0.8619\n",
      "Epoch 7/100\n",
      "134/134 [==============================] - 1s 7ms/step - loss: 0.3643 - accuracy: 0.9101 - val_loss: 0.4569 - val_accuracy: 0.8638\n",
      "Epoch 8/100\n",
      "134/134 [==============================] - 1s 7ms/step - loss: 0.2838 - accuracy: 0.9258 - val_loss: 0.4149 - val_accuracy: 0.8769\n",
      "Epoch 9/100\n",
      "134/134 [==============================] - 1s 7ms/step - loss: 0.2255 - accuracy: 0.9531 - val_loss: 0.3894 - val_accuracy: 0.8899\n",
      "Epoch 10/100\n",
      "134/134 [==============================] - 1s 7ms/step - loss: 0.1810 - accuracy: 0.9713 - val_loss: 0.3701 - val_accuracy: 0.8909\n",
      "Epoch 11/100\n",
      "134/134 [==============================] - 1s 7ms/step - loss: 0.1465 - accuracy: 0.9818 - val_loss: 0.3570 - val_accuracy: 0.9021\n",
      "Epoch 12/100\n",
      "134/134 [==============================] - 1s 7ms/step - loss: 0.1182 - accuracy: 0.9867 - val_loss: 0.3491 - val_accuracy: 0.8993\n",
      "Epoch 13/100\n",
      "134/134 [==============================] - 1s 7ms/step - loss: 0.0960 - accuracy: 0.9897 - val_loss: 0.3368 - val_accuracy: 0.9002\n",
      "Epoch 14/100\n",
      "134/134 [==============================] - 1s 6ms/step - loss: 0.0779 - accuracy: 0.9932 - val_loss: 0.3313 - val_accuracy: 0.9049\n",
      "Epoch 15/100\n",
      "134/134 [==============================] - 1s 7ms/step - loss: 0.0633 - accuracy: 0.9949 - val_loss: 0.3260 - val_accuracy: 0.9058\n",
      "Epoch 16/100\n",
      "134/134 [==============================] - 1s 7ms/step - loss: 0.0514 - accuracy: 0.9956 - val_loss: 0.3245 - val_accuracy: 0.9030\n",
      "Epoch 17/100\n",
      "134/134 [==============================] - 1s 6ms/step - loss: 0.0425 - accuracy: 0.9965 - val_loss: 0.3207 - val_accuracy: 0.9095\n",
      "Epoch 18/100\n",
      "134/134 [==============================] - 1s 7ms/step - loss: 0.0349 - accuracy: 0.9970 - val_loss: 0.3235 - val_accuracy: 0.9095\n",
      "Epoch 19/100\n",
      "134/134 [==============================] - 1s 6ms/step - loss: 0.0292 - accuracy: 0.9972 - val_loss: 0.3243 - val_accuracy: 0.9104\n",
      "Epoch 20/100\n",
      "134/134 [==============================] - 1s 6ms/step - loss: 0.0246 - accuracy: 0.9981 - val_loss: 0.3229 - val_accuracy: 0.9132\n",
      "Epoch 21/100\n",
      "134/134 [==============================] - 1s 6ms/step - loss: 0.0208 - accuracy: 0.9977 - val_loss: 0.3254 - val_accuracy: 0.9132\n",
      "Epoch 22/100\n",
      "134/134 [==============================] - 1s 6ms/step - loss: 0.0181 - accuracy: 0.9981 - val_loss: 0.3267 - val_accuracy: 0.9114\n",
      "Epoch 23/100\n",
      "134/134 [==============================] - 1s 6ms/step - loss: 0.0154 - accuracy: 0.9984 - val_loss: 0.3278 - val_accuracy: 0.9086\n",
      "Epoch 24/100\n",
      "134/134 [==============================] - 1s 7ms/step - loss: 0.0136 - accuracy: 0.9988 - val_loss: 0.3299 - val_accuracy: 0.9132\n",
      "Epoch 25/100\n",
      "134/134 [==============================] - 1s 6ms/step - loss: 0.0120 - accuracy: 0.9986 - val_loss: 0.3306 - val_accuracy: 0.9114\n",
      "Epoch 26/100\n",
      "134/134 [==============================] - 1s 7ms/step - loss: 0.0109 - accuracy: 0.9984 - val_loss: 0.3332 - val_accuracy: 0.9123\n",
      "Epoch 27/100\n",
      "134/134 [==============================] - 1s 6ms/step - loss: 0.0096 - accuracy: 0.9984 - val_loss: 0.3361 - val_accuracy: 0.9114\n",
      "Epoch 28/100\n",
      "134/134 [==============================] - 1s 6ms/step - loss: 0.0088 - accuracy: 0.9984 - val_loss: 0.3360 - val_accuracy: 0.9095\n",
      "Epoch 29/100\n",
      "134/134 [==============================] - 1s 6ms/step - loss: 0.0081 - accuracy: 0.9986 - val_loss: 0.3417 - val_accuracy: 0.9132\n",
      "Epoch 30/100\n",
      "134/134 [==============================] - 1s 6ms/step - loss: 0.0076 - accuracy: 0.9986 - val_loss: 0.3427 - val_accuracy: 0.9123\n",
      "Epoch 31/100\n",
      "134/134 [==============================] - 1s 7ms/step - loss: 0.0070 - accuracy: 0.9984 - val_loss: 0.3449 - val_accuracy: 0.9114\n",
      "Epoch 32/100\n",
      "134/134 [==============================] - 1s 7ms/step - loss: 0.0063 - accuracy: 0.9988 - val_loss: 0.3439 - val_accuracy: 0.9114\n",
      "Epoch 33/100\n",
      "134/134 [==============================] - 1s 7ms/step - loss: 0.0060 - accuracy: 0.9986 - val_loss: 0.3515 - val_accuracy: 0.9114\n",
      "Epoch 34/100\n",
      "134/134 [==============================] - 1s 7ms/step - loss: 0.0056 - accuracy: 0.9986 - val_loss: 0.3505 - val_accuracy: 0.9104\n",
      "Epoch 35/100\n",
      "134/134 [==============================] - 1s 6ms/step - loss: 0.0055 - accuracy: 0.9984 - val_loss: 0.3568 - val_accuracy: 0.9114\n",
      "Epoch 36/100\n",
      "134/134 [==============================] - 1s 7ms/step - loss: 0.0051 - accuracy: 0.9984 - val_loss: 0.3535 - val_accuracy: 0.9132\n",
      "Epoch 37/100\n",
      "134/134 [==============================] - 1s 7ms/step - loss: 0.0048 - accuracy: 0.9984 - val_loss: 0.3564 - val_accuracy: 0.9151\n",
      "Epoch 38/100\n",
      "134/134 [==============================] - 1s 6ms/step - loss: 0.0047 - accuracy: 0.9984 - val_loss: 0.3597 - val_accuracy: 0.9104\n",
      "Epoch 39/100\n",
      "134/134 [==============================] - 1s 7ms/step - loss: 0.0045 - accuracy: 0.9984 - val_loss: 0.3637 - val_accuracy: 0.9132\n",
      "Epoch 40/100\n",
      "134/134 [==============================] - 1s 7ms/step - loss: 0.0046 - accuracy: 0.9981 - val_loss: 0.3653 - val_accuracy: 0.9151\n",
      "Epoch 41/100\n",
      "134/134 [==============================] - 1s 7ms/step - loss: 0.0043 - accuracy: 0.9984 - val_loss: 0.3657 - val_accuracy: 0.9142\n",
      "Epoch 42/100\n",
      "134/134 [==============================] - 1s 7ms/step - loss: 0.0042 - accuracy: 0.9984 - val_loss: 0.3695 - val_accuracy: 0.9095\n",
      "Epoch 43/100\n",
      "134/134 [==============================] - 1s 6ms/step - loss: 0.0040 - accuracy: 0.9986 - val_loss: 0.3655 - val_accuracy: 0.9114\n",
      "Epoch 44/100\n",
      "134/134 [==============================] - 1s 7ms/step - loss: 0.0040 - accuracy: 0.9981 - val_loss: 0.3668 - val_accuracy: 0.9132\n",
      "Epoch 45/100\n",
      "134/134 [==============================] - 1s 7ms/step - loss: 0.0038 - accuracy: 0.9988 - val_loss: 0.3767 - val_accuracy: 0.9170\n",
      "Epoch 46/100\n",
      "134/134 [==============================] - 1s 7ms/step - loss: 0.0037 - accuracy: 0.9986 - val_loss: 0.3739 - val_accuracy: 0.9123\n",
      "Epoch 47/100\n",
      "134/134 [==============================] - 1s 7ms/step - loss: 0.0034 - accuracy: 0.9988 - val_loss: 0.3797 - val_accuracy: 0.9132\n",
      "Epoch 48/100\n",
      "134/134 [==============================] - 1s 7ms/step - loss: 0.0034 - accuracy: 0.9986 - val_loss: 0.3749 - val_accuracy: 0.9123\n",
      "Epoch 49/100\n",
      "134/134 [==============================] - 1s 7ms/step - loss: 0.0034 - accuracy: 0.9988 - val_loss: 0.3838 - val_accuracy: 0.9104\n",
      "Epoch 50/100\n",
      "134/134 [==============================] - 1s 6ms/step - loss: 0.0033 - accuracy: 0.9986 - val_loss: 0.3819 - val_accuracy: 0.9170\n",
      "Epoch 51/100\n",
      "134/134 [==============================] - 1s 6ms/step - loss: 0.0035 - accuracy: 0.9984 - val_loss: 0.3856 - val_accuracy: 0.9114\n",
      "Epoch 52/100\n",
      "134/134 [==============================] - 1s 6ms/step - loss: 0.0036 - accuracy: 0.9981 - val_loss: 0.3820 - val_accuracy: 0.9151\n",
      "Epoch 53/100\n",
      "134/134 [==============================] - 1s 7ms/step - loss: 0.0032 - accuracy: 0.9984 - val_loss: 0.3845 - val_accuracy: 0.9151\n",
      "Epoch 54/100\n",
      "134/134 [==============================] - 1s 6ms/step - loss: 0.0034 - accuracy: 0.9988 - val_loss: 0.3841 - val_accuracy: 0.9160\n",
      "Epoch 55/100\n",
      "134/134 [==============================] - 1s 7ms/step - loss: 0.0034 - accuracy: 0.9981 - val_loss: 0.3892 - val_accuracy: 0.9151\n",
      "Epoch 56/100\n",
      "134/134 [==============================] - 1s 6ms/step - loss: 0.0033 - accuracy: 0.9986 - val_loss: 0.3907 - val_accuracy: 0.9151\n",
      "Epoch 57/100\n",
      "134/134 [==============================] - 1s 6ms/step - loss: 0.0031 - accuracy: 0.9984 - val_loss: 0.3919 - val_accuracy: 0.9160\n",
      "Epoch 58/100\n",
      "134/134 [==============================] - 1s 6ms/step - loss: 0.0033 - accuracy: 0.9986 - val_loss: 0.4008 - val_accuracy: 0.9104\n",
      "Epoch 59/100\n",
      "134/134 [==============================] - 1s 6ms/step - loss: 0.0033 - accuracy: 0.9981 - val_loss: 0.3929 - val_accuracy: 0.9123\n",
      "Epoch 60/100\n",
      "134/134 [==============================] - 1s 6ms/step - loss: 0.0033 - accuracy: 0.9984 - val_loss: 0.3980 - val_accuracy: 0.9170\n",
      "Epoch 61/100\n",
      "134/134 [==============================] - 1s 7ms/step - loss: 0.0031 - accuracy: 0.9986 - val_loss: 0.3967 - val_accuracy: 0.9104\n",
      "Epoch 62/100\n",
      "134/134 [==============================] - 1s 6ms/step - loss: 0.0031 - accuracy: 0.9986 - val_loss: 0.3988 - val_accuracy: 0.9123\n",
      "Epoch 63/100\n",
      "134/134 [==============================] - 1s 6ms/step - loss: 0.0032 - accuracy: 0.9986 - val_loss: 0.4010 - val_accuracy: 0.9151\n",
      "Epoch 64/100\n",
      "134/134 [==============================] - 1s 7ms/step - loss: 0.0032 - accuracy: 0.9984 - val_loss: 0.4003 - val_accuracy: 0.9179\n",
      "Epoch 65/100\n",
      "134/134 [==============================] - 1s 6ms/step - loss: 0.0032 - accuracy: 0.9984 - val_loss: 0.4007 - val_accuracy: 0.9132\n",
      "Epoch 66/100\n",
      "134/134 [==============================] - 1s 6ms/step - loss: 0.0029 - accuracy: 0.9984 - val_loss: 0.4074 - val_accuracy: 0.9160\n",
      "Epoch 67/100\n",
      "134/134 [==============================] - 1s 6ms/step - loss: 0.0032 - accuracy: 0.9984 - val_loss: 0.4049 - val_accuracy: 0.9170\n",
      "Epoch 68/100\n",
      "134/134 [==============================] - 1s 6ms/step - loss: 0.0029 - accuracy: 0.9984 - val_loss: 0.4091 - val_accuracy: 0.9170\n",
      "Epoch 69/100\n",
      "134/134 [==============================] - 1s 6ms/step - loss: 0.0030 - accuracy: 0.9981 - val_loss: 0.4118 - val_accuracy: 0.9114\n",
      "Epoch 70/100\n",
      "134/134 [==============================] - 1s 7ms/step - loss: 0.0030 - accuracy: 0.9986 - val_loss: 0.4050 - val_accuracy: 0.9170\n",
      "Epoch 71/100\n",
      "134/134 [==============================] - 1s 6ms/step - loss: 0.0030 - accuracy: 0.9986 - val_loss: 0.4057 - val_accuracy: 0.9188\n",
      "Epoch 72/100\n",
      "134/134 [==============================] - 1s 6ms/step - loss: 0.0028 - accuracy: 0.9981 - val_loss: 0.4114 - val_accuracy: 0.9114\n",
      "Epoch 73/100\n",
      "134/134 [==============================] - 1s 7ms/step - loss: 0.0030 - accuracy: 0.9984 - val_loss: 0.4076 - val_accuracy: 0.9170\n",
      "Epoch 74/100\n",
      "134/134 [==============================] - 1s 7ms/step - loss: 0.0028 - accuracy: 0.9986 - val_loss: 0.4136 - val_accuracy: 0.9151\n",
      "Epoch 75/100\n",
      "134/134 [==============================] - 1s 6ms/step - loss: 0.0029 - accuracy: 0.9984 - val_loss: 0.4189 - val_accuracy: 0.9123\n",
      "Epoch 76/100\n",
      "134/134 [==============================] - 1s 6ms/step - loss: 0.0031 - accuracy: 0.9984 - val_loss: 0.4167 - val_accuracy: 0.9123\n",
      "Epoch 77/100\n",
      "134/134 [==============================] - 1s 7ms/step - loss: 0.0027 - accuracy: 0.9981 - val_loss: 0.4196 - val_accuracy: 0.9132\n",
      "Epoch 78/100\n",
      "134/134 [==============================] - 1s 7ms/step - loss: 0.0029 - accuracy: 0.9984 - val_loss: 0.4259 - val_accuracy: 0.9123\n",
      "Epoch 79/100\n",
      "134/134 [==============================] - 1s 7ms/step - loss: 0.0029 - accuracy: 0.9984 - val_loss: 0.4248 - val_accuracy: 0.9160\n",
      "Epoch 80/100\n",
      "134/134 [==============================] - 1s 7ms/step - loss: 0.0029 - accuracy: 0.9984 - val_loss: 0.4322 - val_accuracy: 0.9114\n",
      "Epoch 81/100\n",
      "134/134 [==============================] - 1s 6ms/step - loss: 0.0032 - accuracy: 0.9984 - val_loss: 0.4252 - val_accuracy: 0.9123\n",
      "Epoch 82/100\n",
      "134/134 [==============================] - 1s 6ms/step - loss: 0.0028 - accuracy: 0.9988 - val_loss: 0.4237 - val_accuracy: 0.9160\n",
      "Epoch 83/100\n",
      "134/134 [==============================] - 1s 7ms/step - loss: 0.0027 - accuracy: 0.9986 - val_loss: 0.4218 - val_accuracy: 0.9151\n",
      "Epoch 84/100\n",
      "134/134 [==============================] - 1s 6ms/step - loss: 0.0029 - accuracy: 0.9986 - val_loss: 0.4323 - val_accuracy: 0.9123\n",
      "Epoch 85/100\n",
      "134/134 [==============================] - 1s 6ms/step - loss: 0.0030 - accuracy: 0.9984 - val_loss: 0.4274 - val_accuracy: 0.9160\n",
      "Epoch 86/100\n",
      "134/134 [==============================] - 1s 6ms/step - loss: 0.0030 - accuracy: 0.9986 - val_loss: 0.4285 - val_accuracy: 0.9123\n",
      "Epoch 87/100\n",
      "134/134 [==============================] - 1s 6ms/step - loss: 0.0030 - accuracy: 0.9984 - val_loss: 0.4271 - val_accuracy: 0.9179\n",
      "Epoch 88/100\n",
      "134/134 [==============================] - 1s 7ms/step - loss: 0.0029 - accuracy: 0.9986 - val_loss: 0.4334 - val_accuracy: 0.9142\n",
      "Epoch 89/100\n",
      "134/134 [==============================] - 1s 6ms/step - loss: 0.0028 - accuracy: 0.9986 - val_loss: 0.4316 - val_accuracy: 0.9170\n",
      "Epoch 90/100\n",
      "134/134 [==============================] - 1s 7ms/step - loss: 0.0030 - accuracy: 0.9981 - val_loss: 0.4300 - val_accuracy: 0.9170\n",
      "Epoch 91/100\n",
      "134/134 [==============================] - 1s 7ms/step - loss: 0.0026 - accuracy: 0.9986 - val_loss: 0.4296 - val_accuracy: 0.9188\n",
      "Epoch 92/100\n",
      "134/134 [==============================] - 1s 6ms/step - loss: 0.0028 - accuracy: 0.9986 - val_loss: 0.4403 - val_accuracy: 0.9132\n",
      "Epoch 93/100\n",
      "134/134 [==============================] - 1s 6ms/step - loss: 0.0029 - accuracy: 0.9984 - val_loss: 0.4360 - val_accuracy: 0.9142\n",
      "Epoch 94/100\n",
      "134/134 [==============================] - 1s 6ms/step - loss: 0.0028 - accuracy: 0.9981 - val_loss: 0.4332 - val_accuracy: 0.9151\n",
      "Epoch 95/100\n",
      "134/134 [==============================] - 1s 6ms/step - loss: 0.0028 - accuracy: 0.9986 - val_loss: 0.4477 - val_accuracy: 0.9132\n",
      "Epoch 96/100\n",
      "134/134 [==============================] - 1s 6ms/step - loss: 0.0027 - accuracy: 0.9986 - val_loss: 0.4391 - val_accuracy: 0.9151\n",
      "Epoch 97/100\n",
      "134/134 [==============================] - 1s 7ms/step - loss: 0.0028 - accuracy: 0.9984 - val_loss: 0.4404 - val_accuracy: 0.9179\n",
      "Epoch 98/100\n",
      "134/134 [==============================] - 1s 6ms/step - loss: 0.0027 - accuracy: 0.9986 - val_loss: 0.4468 - val_accuracy: 0.9151\n",
      "Epoch 99/100\n",
      "134/134 [==============================] - 1s 6ms/step - loss: 0.0026 - accuracy: 0.9986 - val_loss: 0.4441 - val_accuracy: 0.9188\n",
      "Epoch 100/100\n",
      "134/134 [==============================] - 1s 6ms/step - loss: 0.0030 - accuracy: 0.9984 - val_loss: 0.4458 - val_accuracy: 0.9160\n"
     ]
    }
   ],
   "source": [
    "history = model.fit(X_train_padded, y_train, epochs=100, validation_data=(X_val_padded, y_val))"
   ]
  },
  {
   "cell_type": "code",
   "execution_count": 21,
   "metadata": {},
   "outputs": [
    {
     "data": {
      "image/png": "[encoded data removed]",
      "text/plain": [
       "<Figure size 640x480 with 1 Axes>"
      ]
     },
     "metadata": {},
     "output_type": "display_data"
    },
    {
     "data": {
      "image/png": "[encoded data removed]",
      "text/plain": [
       "<Figure size 640x480 with 1 Axes>"
      ]
     },
     "metadata": {},
     "output_type": "display_data"
    }
   ],
   "source": [
    "# Evaluate Neural Network Model\n",
    "plot_accuracy(history)\n",
    "plot_loss(history)"
   ]
  },
  {
   "cell_type": "code",
   "execution_count": 23,
   "metadata": {},
   "outputs": [
    {
     "name": "stdout",
     "output_type": "stream",
     "text": [
      "42/42 [==============================] - 0s 2ms/step\n",
      "              precision    recall  f1-score   support\n",
      "\n",
      "           0       0.91      0.92      0.91       222\n",
      "           1       0.92      0.89      0.90       172\n",
      "           2       0.92      0.97      0.94       324\n",
      "           3       0.96      0.96      0.96       219\n",
      "           4       0.93      0.92      0.93       326\n",
      "           5       0.80      0.71      0.75        77\n",
      "\n",
      "    accuracy                           0.92      1340\n",
      "   macro avg       0.91      0.89      0.90      1340\n",
      "weighted avg       0.92      0.92      0.92      1340\n",
      "\n"
     ]
    }
   ],
   "source": [
    "y_pred = model.predict(X_test_padded)\n",
    "y_pred_classes = np.argmax(y_pred, axis=1)\n",
    "\n",
    "\n",
    "# Print classification report\n",
    "print(classification_report(y_test, y_pred_classes))"
   ]
  },
  {
   "cell_type": "code",
   "execution_count": 25,
   "metadata": {},
   "outputs": [
    {
     "data": {
      "text/plain": [
       "array(['biiznasii', 'fayyaa', 'idil_addunyaa', 'ispoortii',\n",
       "       'oduu_biyya_keessaa', 'teeknooloojii'], dtype=object)"
      ]
     },
     "execution_count": 25,
     "metadata": {},
     "output_type": "execute_result"
    }
   ],
   "source": [
    "label_encoder.classes_"
   ]
  },
  {
   "cell_type": "code",
   "execution_count": 26,
   "metadata": {},
   "outputs": [
    {
     "data": {
      "text/plain": [
       "0.9216417910447762"
      ]
     },
     "execution_count": 26,
     "metadata": {},
     "output_type": "execute_result"
    }
   ],
   "source": [
    "accuracy_score(y_test, y_pred_classes)"
   ]
  },
  {
   "cell_type": "code",
   "execution_count": 27,
   "metadata": {},
   "outputs": [],
   "source": [
    "# Technology has the least F1-Score (0.75), idil_addunyaa "
   ]
  },
  {
   "cell_type": "code",
   "execution_count": null,
   "metadata": {},
   "outputs": [],
   "source": []
  }
 ],
 "metadata": {
  "kernelspec": {
   "display_name": "venv",
   "language": "python",
   "name": "python3"
  },
  "language_info": {
   "codemirror_mode": {
    "name": "ipython",
    "version": 3
   },
   "file_extension": ".py",
   "mimetype": "text/x-python",
   "name": "python",
   "nbconvert_exporter": "python",
   "pygments_lexer": "ipython3",
   "version": "3.11.5"
  }
 },
 "nbformat": 4,
 "nbformat_minor": 2
}
